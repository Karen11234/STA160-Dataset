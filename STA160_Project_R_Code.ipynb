{
  "cells": [
    {
      "cell_type": "markdown",
      "source": [
        "# RUN IN R, NOT PYTHON"
      ],
      "metadata": {
        "id": "DrQjNPbF73cx"
      }
    },
    {
      "cell_type": "code",
      "execution_count": null,
      "metadata": {
        "colab": {
          "base_uri": "https://localhost:8080/"
        },
        "id": "EIRmlTIMIGgQ",
        "outputId": "e2e209d3-973a-4a2d-b9dc-51edb467756a"
      },
      "outputs": [
        {
          "output_type": "stream",
          "name": "stderr",
          "text": [
            "Installing package into ‘/usr/local/lib/R/site-library’\n",
            "(as ‘lib’ is unspecified)\n",
            "\n",
            "Installing package into ‘/usr/local/lib/R/site-library’\n",
            "(as ‘lib’ is unspecified)\n",
            "\n",
            "Warning message:\n",
            "“dependency ‘subselect’ is not available”\n",
            "also installing the dependencies ‘listenv’, ‘parallelly’, ‘future’, ‘globals’, ‘R.methodsS3’, ‘R.oo’, ‘R.utils’, ‘bitops’, ‘shape’, ‘future.apply’, ‘numDeriv’, ‘progressr’, ‘SQUAREM’, ‘R.cache’, ‘caTools’, ‘TH.data’, ‘profileModel’, ‘minqa’, ‘nloptr’, ‘RcppEigen’, ‘lazyeval’, ‘plotrix’, ‘diagram’, ‘lava’, ‘styler’, ‘classInt’, ‘labelled’, ‘gplots’, ‘libcoin’, ‘matrixStats’, ‘multcomp’, ‘iterators’, ‘clock’, ‘gower’, ‘hardhat’, ‘timeDate’, ‘brglm’, ‘gtools’, ‘lme4’, ‘qvcalc’, ‘rex’, ‘Formula’, ‘plotmo’, ‘prodlim’, ‘combinat’, ‘questionr’, ‘ROCR’, ‘mvtnorm’, ‘modeltools’, ‘strucchange’, ‘coin’, ‘zoo’, ‘sandwich’, ‘ROSE’, ‘e1071’, ‘foreach’, ‘ModelMetrics’, ‘plyr’, ‘pROC’, ‘recipes’, ‘reshape2’, ‘BradleyTerry2’, ‘covr’, ‘Cubist’, ‘earth’, ‘ellipse’, ‘fastICA’, ‘gam’, ‘ipred’, ‘kernlab’, ‘klaR’, ‘mda’, ‘mlbench’, ‘MLmetrics’, ‘pamr’, ‘party’, ‘pls’, ‘proxy’, ‘randomForest’, ‘RANN’, ‘spls’, ‘superpc’, ‘themis’\n",
            "\n",
            "\n",
            "Installing package into ‘/usr/local/lib/R/site-library’\n",
            "(as ‘lib’ is unspecified)\n",
            "\n",
            "Installing package into ‘/usr/local/lib/R/site-library’\n",
            "(as ‘lib’ is unspecified)\n",
            "\n"
          ]
        }
      ],
      "source": [
        "# install packages\n",
        "install.packages(\"tidyverse\")\n",
        "install.packages(\"caret\", dependencies = TRUE)\n",
        "install.packages(\"ggplot2\")\n",
        "install.packages(\"glmnet\")"
      ]
    },
    {
      "cell_type": "code",
      "execution_count": null,
      "metadata": {
        "colab": {
          "base_uri": "https://localhost:8080/"
        },
        "id": "OsZ0xQs4Ho73",
        "outputId": "0b6c4eb2-bfe2-47ee-cac3-5b98269260f1"
      },
      "outputs": [
        {
          "output_type": "stream",
          "name": "stderr",
          "text": [
            "── \u001b[1mAttaching core tidyverse packages\u001b[22m ──────────────────────── tidyverse 2.0.0 ──\n",
            "\u001b[32m✔\u001b[39m \u001b[34mdplyr    \u001b[39m 1.1.4     \u001b[32m✔\u001b[39m \u001b[34mreadr    \u001b[39m 2.1.5\n",
            "\u001b[32m✔\u001b[39m \u001b[34mforcats  \u001b[39m 1.0.0     \u001b[32m✔\u001b[39m \u001b[34mstringr  \u001b[39m 1.5.1\n",
            "\u001b[32m✔\u001b[39m \u001b[34mggplot2  \u001b[39m 3.5.1     \u001b[32m✔\u001b[39m \u001b[34mtibble   \u001b[39m 3.2.1\n",
            "\u001b[32m✔\u001b[39m \u001b[34mlubridate\u001b[39m 1.9.3     \u001b[32m✔\u001b[39m \u001b[34mtidyr    \u001b[39m 1.3.1\n",
            "\u001b[32m✔\u001b[39m \u001b[34mpurrr    \u001b[39m 1.0.2     \n",
            "── \u001b[1mConflicts\u001b[22m ────────────────────────────────────────── tidyverse_conflicts() ──\n",
            "\u001b[31m✖\u001b[39m \u001b[34mdplyr\u001b[39m::\u001b[32mfilter()\u001b[39m masks \u001b[34mstats\u001b[39m::filter()\n",
            "\u001b[31m✖\u001b[39m \u001b[34mdplyr\u001b[39m::\u001b[32mlag()\u001b[39m    masks \u001b[34mstats\u001b[39m::lag()\n",
            "\u001b[36mℹ\u001b[39m Use the conflicted package (\u001b[3m\u001b[34m<http://conflicted.r-lib.org/>\u001b[39m\u001b[23m) to force all conflicts to become errors\n",
            "Loading required package: lattice\n",
            "\n",
            "\n",
            "Attaching package: ‘caret’\n",
            "\n",
            "\n",
            "The following object is masked from ‘package:purrr’:\n",
            "\n",
            "    lift\n",
            "\n",
            "\n",
            "Loading required package: Matrix\n",
            "\n",
            "\n",
            "Attaching package: ‘Matrix’\n",
            "\n",
            "\n",
            "The following objects are masked from ‘package:tidyr’:\n",
            "\n",
            "    expand, pack, unpack\n",
            "\n",
            "\n",
            "Loaded glmnet 4.1-8\n",
            "\n"
          ]
        }
      ],
      "source": [
        "# import libraries\n",
        "library(tidyverse)\n",
        "library(caret)\n",
        "library(ggplot2)\n",
        "library(glmnet)"
      ]
    },
    {
      "cell_type": "code",
      "execution_count": null,
      "metadata": {
        "id": "pH4lML-8JlTr"
      },
      "outputs": [],
      "source": [
        "# import data\n",
        "health_data <- read.csv('STA 160 Health Data Final.csv')\n",
        "# remove dropped columns (determined w heat map using Python)\n",
        "main_health_data <- health_data[, -c(1,2,4,13, 22:25)]"
      ]
    },
    {
      "cell_type": "code",
      "execution_count": null,
      "metadata": {
        "id": "XZkMsbRqCt1q"
      },
      "outputs": [],
      "source": [
        "# hist(main_health_data$income)\n",
        "# income has a left skewed disribution -> will log(income) to address this\n",
        "main_health_data$income = log(main_health_data$income)"
      ]
    },
    {
      "cell_type": "markdown",
      "metadata": {
        "id": "b9iErbAmxalk"
      },
      "source": [
        "# Linear Regression"
      ]
    },
    {
      "cell_type": "code",
      "execution_count": null,
      "metadata": {
        "id": "8b6TPSSex5z9"
      },
      "outputs": [],
      "source": [
        "# create dataframes for each y\n",
        "y_stnd_death_rate <-  main_health_data[, -c(2,3,4)]\n",
        "y_CHD_data <- main_health_data[, -c(1,3,4)]\n",
        "y_HBP_data <- main_health_data[, -c(1,2,4)]\n",
        "y_stroke_data <- main_health_data[, -c(1,2,3)]"
      ]
    },
    {
      "cell_type": "markdown",
      "metadata": {
        "id": "rXGLGnJhlWkD"
      },
      "source": [
        "## With All Factors"
      ]
    },
    {
      "cell_type": "code",
      "execution_count": null,
      "metadata": {
        "colab": {
          "base_uri": "https://localhost:8080/",
          "height": 1000
        },
        "id": "JlJpxgz9x-i7",
        "outputId": "2772918d-a440-4652-9c01-1b3ee36c9f1c"
      },
      "outputs": [
        {
          "output_type": "display_data",
          "data": {
            "text/plain": [
              "\n",
              "Call:\n",
              "lm(formula = pct_CHD ~ ., data = y_CHD_data)\n",
              "\n",
              "Residuals:\n",
              "     Min       1Q   Median       3Q      Max \n",
              "-0.27740 -0.10485 -0.01169  0.07169  0.44349 \n",
              "\n",
              "Coefficients:\n",
              "                        Estimate Std. Error t value Pr(>|t|)   \n",
              "(Intercept)           12.1371404  7.4387796   1.632  0.12505   \n",
              "pct_high_chol          0.0278679  0.0521733   0.534  0.60162   \n",
              "pct_diabetes          -0.1466985  0.1019392  -1.439  0.17211   \n",
              "pct_obesity            0.0205119  0.0235504   0.871  0.39845   \n",
              "pct_phys_inactivity   -0.0602300  0.0458979  -1.312  0.21054   \n",
              "pct_current_smoker     0.2434252  0.0797970   3.051  0.00864 **\n",
              "income                -0.9393463  0.6046978  -1.553  0.14263   \n",
              "gini                   6.2050067  4.5737023   1.357  0.19636   \n",
              "pct_poverty           -0.0808597  0.0419419  -1.928  0.07440 . \n",
              "pct_unemployment      -0.0864615  0.0676958  -1.277  0.22231   \n",
              "air_quality           -0.0120387  0.0393884  -0.306  0.76438   \n",
              "pct_park_access       -0.0043962  0.0065875  -0.667  0.51540   \n",
              "urban_rural_status     0.2915704  0.1231825   2.367  0.03288 * \n",
              "num_hospitals         -0.0020129  0.0069605  -0.289  0.77668   \n",
              "pop_per_primary_dr     0.4958838  0.2874643   1.725  0.10652   \n",
              "pop_per_cvd_dr        -0.0138636  0.0070892  -1.956  0.07077 . \n",
              "pop_per_neuro_dr       0.0022440  0.0043259   0.519  0.61205   \n",
              "pop_per_neuro_surg_dr -0.0006367  0.0004460  -1.428  0.17530   \n",
              "pct_no_health_insur    0.0028544  0.0390935   0.073  0.94283   \n",
              "---\n",
              "Signif. codes:  0 ‘***’ 0.001 ‘**’ 0.01 ‘*’ 0.05 ‘.’ 0.1 ‘ ’ 1\n",
              "\n",
              "Residual standard error: 0.2471 on 14 degrees of freedom\n",
              "  (25 observations deleted due to missingness)\n",
              "Multiple R-squared:  0.9421,\tAdjusted R-squared:  0.8677 \n",
              "F-statistic: 12.66 on 18 and 14 DF,  p-value: 9.266e-06\n"
            ]
          },
          "metadata": {}
        },
        {
          "output_type": "display_data",
          "data": {
            "text/plain": [
              "\n",
              "Call:\n",
              "lm(formula = pct_high_BP ~ ., data = y_HBP_data)\n",
              "\n",
              "Residuals:\n",
              "     Min       1Q   Median       3Q      Max \n",
              "-1.31155 -0.19822  0.00917  0.42920  1.28154 \n",
              "\n",
              "Coefficients:\n",
              "                       Estimate Std. Error t value Pr(>|t|)  \n",
              "(Intercept)           29.332868  28.636996   1.024   0.3231  \n",
              "pct_high_chol          0.226315   0.200851   1.127   0.2788  \n",
              "pct_diabetes          -0.294747   0.392434  -0.751   0.4650  \n",
              "pct_obesity            0.177923   0.090662   1.962   0.0699 .\n",
              "pct_phys_inactivity   -0.062718   0.176693  -0.355   0.7279  \n",
              "pct_current_smoker     0.710705   0.307194   2.314   0.0364 *\n",
              "income                -1.446132   2.327899  -0.621   0.5444  \n",
              "gini                   3.269668  17.607337   0.186   0.8553  \n",
              "pct_poverty           -0.339258   0.161463  -2.101   0.0542 .\n",
              "pct_unemployment       0.010845   0.260608   0.042   0.9674  \n",
              "air_quality           -0.096163   0.151633  -0.634   0.5362  \n",
              "pct_park_access        0.009216   0.025360   0.363   0.7217  \n",
              "urban_rural_status     1.267670   0.474214   2.673   0.0182 *\n",
              "num_hospitals          0.028406   0.026796   1.060   0.3071  \n",
              "pop_per_primary_dr     0.541323   1.106648   0.489   0.6323  \n",
              "pop_per_cvd_dr        -0.028346   0.027291  -1.039   0.3166  \n",
              "pop_per_neuro_dr      -0.001564   0.016653  -0.094   0.9265  \n",
              "pop_per_neuro_surg_dr -0.003749   0.001717  -2.184   0.0465 *\n",
              "pct_no_health_insur   -0.126524   0.150498  -0.841   0.4146  \n",
              "---\n",
              "Signif. codes:  0 ‘***’ 0.001 ‘**’ 0.01 ‘*’ 0.05 ‘.’ 0.1 ‘ ’ 1\n",
              "\n",
              "Residual standard error: 0.9514 on 14 degrees of freedom\n",
              "  (25 observations deleted due to missingness)\n",
              "Multiple R-squared:  0.8954,\tAdjusted R-squared:  0.7609 \n",
              "F-statistic: 6.658 on 18 and 14 DF,  p-value: 0.0004109\n"
            ]
          },
          "metadata": {}
        },
        {
          "output_type": "display_data",
          "data": {
            "text/plain": [
              "\n",
              "Call:\n",
              "lm(formula = pct_stroke ~ ., data = y_stroke_data)\n",
              "\n",
              "Residuals:\n",
              "      Min        1Q    Median        3Q       Max \n",
              "-0.152778 -0.058117  0.002117  0.036948  0.173338 \n",
              "\n",
              "Coefficients:\n",
              "                        Estimate Std. Error t value Pr(>|t|)   \n",
              "(Intercept)            2.1275378  3.4904031   0.610  0.55193   \n",
              "pct_high_chol          0.0068949  0.0244806   0.282  0.78234   \n",
              "pct_diabetes          -0.0614118  0.0478316  -1.284  0.22001   \n",
              "pct_obesity            0.0081541  0.0110502   0.738  0.47276   \n",
              "pct_phys_inactivity   -0.0105473  0.0215361  -0.490  0.63190   \n",
              "pct_current_smoker     0.1426607  0.0374421   3.810  0.00191 **\n",
              "income                -0.0351538  0.2837346  -0.124  0.90316   \n",
              "gini                   0.6009172  2.1460597   0.280  0.78356   \n",
              "pct_poverty           -0.0298336  0.0196798  -1.516  0.15178   \n",
              "pct_unemployment      -0.0129641  0.0317640  -0.408  0.68934   \n",
              "air_quality           -0.0195434  0.0184817  -1.057  0.30821   \n",
              "pct_park_access       -0.0026838  0.0030910  -0.868  0.39990   \n",
              "urban_rural_status     0.0873542  0.0577993   1.511  0.15294   \n",
              "num_hospitals          0.0047579  0.0032660   1.457  0.16723   \n",
              "pop_per_primary_dr     0.1618855  0.1348832   1.200  0.24998   \n",
              "pop_per_cvd_dr        -0.0048503  0.0033264  -1.458  0.16687   \n",
              "pop_per_neuro_dr       0.0017536  0.0020298   0.864  0.40220   \n",
              "pop_per_neuro_surg_dr -0.0001924  0.0002093  -0.919  0.37341   \n",
              "pct_no_health_insur   -0.0022859  0.0183433  -0.125  0.90260   \n",
              "---\n",
              "Signif. codes:  0 ‘***’ 0.001 ‘**’ 0.01 ‘*’ 0.05 ‘.’ 0.1 ‘ ’ 1\n",
              "\n",
              "Residual standard error: 0.116 on 14 degrees of freedom\n",
              "  (25 observations deleted due to missingness)\n",
              "Multiple R-squared:  0.943,\tAdjusted R-squared:  0.8697 \n",
              "F-statistic: 12.87 on 18 and 14 DF,  p-value: 8.37e-06\n"
            ]
          },
          "metadata": {}
        }
      ],
      "source": [
        "## FULL MODELS\n",
        "# run regression for all y's (FULL MODELS)\n",
        "full_reg_chd <- lm(pct_CHD ~ ., data = y_CHD_data)\n",
        "summary(full_reg_chd)\n",
        "\n",
        "full_reg_hbp <- lm(pct_high_BP ~ ., data = y_HBP_data)\n",
        "summary(full_reg_hbp)\n",
        "\n",
        "full_reg_stroke <- lm(pct_stroke ~ ., data = y_stroke_data)\n",
        "summary(full_reg_stroke)\n"
      ]
    },
    {
      "cell_type": "markdown",
      "metadata": {
        "id": "crZbWdqllOgF"
      },
      "source": [
        "## Just With Risk Factors"
      ]
    },
    {
      "cell_type": "code",
      "execution_count": null,
      "metadata": {
        "colab": {
          "base_uri": "https://localhost:8080/",
          "height": 1000
        },
        "id": "KWL0Ls80yCSC",
        "outputId": "9628b62b-0ab9-4b4e-83ee-479828716ab3"
      },
      "outputs": [
        {
          "output_type": "display_data",
          "data": {
            "text/plain": [
              "\n",
              "Call:\n",
              "lm(formula = pct_CHD ~ pct_high_chol + pct_diabetes + pct_obesity + \n",
              "    pct_phys_inactivity + pct_current_smoker, data = main_health_data)\n",
              "\n",
              "Residuals:\n",
              "     Min       1Q   Median       3Q      Max \n",
              "-0.76764 -0.26538  0.03044  0.28481  0.99674 \n",
              "\n",
              "Coefficients:\n",
              "                     Estimate Std. Error t value Pr(>|t|)    \n",
              "(Intercept)         -7.078830   1.146843  -6.172 1.03e-07 ***\n",
              "pct_high_chol        0.338898   0.026765  12.662  < 2e-16 ***\n",
              "pct_diabetes        -0.169133   0.080453  -2.102   0.0404 *  \n",
              "pct_obesity          0.002554   0.015539   0.164   0.8701    \n",
              "pct_phys_inactivity -0.028775   0.034805  -0.827   0.4121    \n",
              "pct_current_smoker   0.223957   0.026887   8.330 3.85e-11 ***\n",
              "---\n",
              "Signif. codes:  0 ‘***’ 0.001 ‘**’ 0.01 ‘*’ 0.05 ‘.’ 0.1 ‘ ’ 1\n",
              "\n",
              "Residual standard error: 0.3946 on 52 degrees of freedom\n",
              "Multiple R-squared:  0.9173,\tAdjusted R-squared:  0.9094 \n",
              "F-statistic: 115.4 on 5 and 52 DF,  p-value: < 2.2e-16\n"
            ]
          },
          "metadata": {}
        },
        {
          "output_type": "display_data",
          "data": {
            "text/plain": [
              "\n",
              "Call:\n",
              "lm(formula = pct_CHD ~ pct_high_chol + pct_diabetes + pct_current_smoker, \n",
              "    data = main_health_data)\n",
              "\n",
              "Residuals:\n",
              "     Min       1Q   Median       3Q      Max \n",
              "-0.81376 -0.27321  0.02321  0.27204  1.01840 \n",
              "\n",
              "Coefficients:\n",
              "                   Estimate Std. Error t value Pr(>|t|)    \n",
              "(Intercept)        -7.25951    1.11493  -6.511 2.56e-08 ***\n",
              "pct_high_chol       0.34291    0.02585  13.263  < 2e-16 ***\n",
              "pct_diabetes       -0.20724    0.05571  -3.720 0.000476 ***\n",
              "pct_current_smoker  0.21829    0.02578   8.469 1.74e-11 ***\n",
              "---\n",
              "Signif. codes:  0 ‘***’ 0.001 ‘**’ 0.01 ‘*’ 0.05 ‘.’ 0.1 ‘ ’ 1\n",
              "\n",
              "Residual standard error: 0.39 on 54 degrees of freedom\n",
              "Multiple R-squared:  0.9161,\tAdjusted R-squared:  0.9115 \n",
              "F-statistic: 196.6 on 3 and 54 DF,  p-value: < 2.2e-16\n"
            ]
          },
          "metadata": {}
        },
        {
          "output_type": "display_data",
          "data": {
            "text/plain": [
              "\n",
              "Call:\n",
              "lm(formula = pct_high_BP ~ pct_high_chol + pct_diabetes + pct_obesity + \n",
              "    pct_phys_inactivity + pct_current_smoker, data = main_health_data)\n",
              "\n",
              "Residuals:\n",
              "     Min       1Q   Median       3Q      Max \n",
              "-2.60509 -0.72399 -0.08455  0.87271  3.11486 \n",
              "\n",
              "Coefficients:\n",
              "                     Estimate Std. Error t value Pr(>|t|)    \n",
              "(Intercept)         -11.48712    3.62313  -3.170  0.00255 ** \n",
              "pct_high_chol         1.05251    0.08456  12.448  < 2e-16 ***\n",
              "pct_diabetes         -0.23910    0.25417  -0.941  0.35119    \n",
              "pct_obesity           0.02845    0.04909   0.580  0.56469    \n",
              "pct_phys_inactivity  -0.04893    0.10996  -0.445  0.65815    \n",
              "pct_current_smoker    0.50081    0.08494   5.896 2.81e-07 ***\n",
              "---\n",
              "Signif. codes:  0 ‘***’ 0.001 ‘**’ 0.01 ‘*’ 0.05 ‘.’ 0.1 ‘ ’ 1\n",
              "\n",
              "Residual standard error: 1.247 on 52 degrees of freedom\n",
              "Multiple R-squared:  0.891,\tAdjusted R-squared:  0.8806 \n",
              "F-statistic: 85.05 on 5 and 52 DF,  p-value: < 2.2e-16\n"
            ]
          },
          "metadata": {}
        },
        {
          "output_type": "display_data",
          "data": {
            "text/plain": [
              "\n",
              "Call:\n",
              "lm(formula = pct_high_BP ~ pct_high_chol + pct_current_smoker, \n",
              "    data = main_health_data)\n",
              "\n",
              "Residuals:\n",
              "    Min      1Q  Median      3Q     Max \n",
              "-2.2695 -0.6570 -0.1437  0.8474  3.3276 \n",
              "\n",
              "Coefficients:\n",
              "                    Estimate Std. Error t value Pr(>|t|)    \n",
              "(Intercept)        -14.95427    2.31532  -6.459 2.89e-08 ***\n",
              "pct_high_chol        1.10730    0.06772  16.350  < 2e-16 ***\n",
              "pct_current_smoker   0.45417    0.07393   6.143 9.44e-08 ***\n",
              "---\n",
              "Signif. codes:  0 ‘***’ 0.001 ‘**’ 0.01 ‘*’ 0.05 ‘.’ 0.1 ‘ ’ 1\n",
              "\n",
              "Residual standard error: 1.233 on 55 degrees of freedom\n",
              "Multiple R-squared:  0.8872,\tAdjusted R-squared:  0.8831 \n",
              "F-statistic: 216.2 on 2 and 55 DF,  p-value: < 2.2e-16\n"
            ]
          },
          "metadata": {}
        },
        {
          "output_type": "display_data",
          "data": {
            "text/plain": [
              "\n",
              "Call:\n",
              "lm(formula = pct_stroke ~ pct_high_chol + pct_diabetes + pct_obesity + \n",
              "    pct_phys_inactivity + pct_current_smoker, data = main_health_data)\n",
              "\n",
              "Residuals:\n",
              "     Min       1Q   Median       3Q      Max \n",
              "-0.35278 -0.11019 -0.00764  0.10041  0.49889 \n",
              "\n",
              "Coefficients:\n",
              "                     Estimate Std. Error t value Pr(>|t|)    \n",
              "(Intercept)         -2.870510   0.497236  -5.773 4.39e-07 ***\n",
              "pct_high_chol        0.140750   0.011604  12.129  < 2e-16 ***\n",
              "pct_diabetes        -0.045613   0.034882  -1.308    0.197    \n",
              "pct_obesity          0.002520   0.006737   0.374    0.710    \n",
              "pct_phys_inactivity -0.004584   0.015090  -0.304    0.763    \n",
              "pct_current_smoker   0.112199   0.011657   9.625 3.83e-13 ***\n",
              "---\n",
              "Signif. codes:  0 ‘***’ 0.001 ‘**’ 0.01 ‘*’ 0.05 ‘.’ 0.1 ‘ ’ 1\n",
              "\n",
              "Residual standard error: 0.1711 on 52 degrees of freedom\n",
              "Multiple R-squared:  0.9142,\tAdjusted R-squared:  0.906 \n",
              "F-statistic: 110.8 on 5 and 52 DF,  p-value: < 2.2e-16\n"
            ]
          },
          "metadata": {}
        },
        {
          "output_type": "display_data",
          "data": {
            "text/plain": [
              "\n",
              "Call:\n",
              "lm(formula = pct_stroke ~ pct_high_chol + pct_current_smoker, \n",
              "    data = main_health_data)\n",
              "\n",
              "Residuals:\n",
              "     Min       1Q   Median       3Q      Max \n",
              "-0.32252 -0.09895 -0.00132  0.09887  0.53719 \n",
              "\n",
              "Coefficients:\n",
              "                    Estimate Std. Error t value Pr(>|t|)    \n",
              "(Intercept)        -3.554288   0.322313  -11.03 1.50e-15 ***\n",
              "pct_high_chol       0.152106   0.009428   16.13  < 2e-16 ***\n",
              "pct_current_smoker  0.103172   0.010292   10.03 5.11e-14 ***\n",
              "---\n",
              "Signif. codes:  0 ‘***’ 0.001 ‘**’ 0.01 ‘*’ 0.05 ‘.’ 0.1 ‘ ’ 1\n",
              "\n",
              "Residual standard error: 0.1717 on 55 degrees of freedom\n",
              "Multiple R-squared:  0.9086,\tAdjusted R-squared:  0.9053 \n",
              "F-statistic: 273.4 on 2 and 55 DF,  p-value: < 2.2e-16\n"
            ]
          },
          "metadata": {}
        }
      ],
      "source": [
        "## Just w RISK FACTORS\n",
        "### CHD\n",
        "full_risk_model <- lm(pct_CHD ~ pct_high_chol\t+ pct_diabetes + pct_obesity + pct_phys_inactivity + pct_current_smoker,\n",
        "                      data = main_health_data)\n",
        "summary(full_risk_model)\n",
        "\n",
        "red_risk_model <- lm(pct_CHD ~ pct_high_chol + pct_diabetes + pct_current_smoker,\n",
        "                   data = main_health_data)\n",
        "summary(red_risk_model)\n",
        "\n",
        "#### HIGH BP\n",
        "full_risk_model <- lm(pct_high_BP ~ pct_high_chol\t+ pct_diabetes + pct_obesity + pct_phys_inactivity + pct_current_smoker,\n",
        "                    data = main_health_data)\n",
        "summary(full_risk_model)\n",
        "\n",
        "red_risk_model <- lm(pct_high_BP ~ pct_high_chol + pct_current_smoker,\n",
        "                   data = main_health_data)\n",
        "summary(red_risk_model)\n",
        "\n",
        "#### STROKE\n",
        "full_risk_model <- lm(pct_stroke ~ pct_high_chol\t+ pct_diabetes + pct_obesity + pct_phys_inactivity + pct_current_smoker,\n",
        "                    data = main_health_data)\n",
        "summary(full_risk_model)\n",
        "red_risk_model <- lm(pct_stroke ~ pct_high_chol + pct_current_smoker,\n",
        "                   data = main_health_data)\n",
        "summary(red_risk_model)"
      ]
    },
    {
      "cell_type": "markdown",
      "source": [
        "## Just With Social, Economic, & Environmental Factors"
      ],
      "metadata": {
        "id": "0j8QjW0Cy647"
      }
    },
    {
      "cell_type": "code",
      "source": [
        "## Just w SOCIAL, ECONOMIC, & ENVIRONMENTAL FACTORS\n",
        "### CHD\n",
        "full_income_model <- lm(pct_CHD ~ income + gini + pct_poverty + pct_unemployment + air_quality + pct_park_access + urban_rural_status,\n",
        "                      data = main_health_data)\n",
        "summary(full_income_model)\n",
        "\n",
        "#### HIGH BP\n",
        "full_income_model <- lm(pct_high_BP ~ income + gini + pct_poverty + pct_unemployment + air_quality + pct_park_access + urban_rural_status,\n",
        "                    data = main_health_data)\n",
        "summary(full_income_model)\n",
        "\n",
        "#### STROKE\n",
        "full_income_model <- lm(pct_stroke ~ income + gini + pct_poverty + pct_unemployment + air_quality + pct_park_access + urban_rural_status,\n",
        "                    data = main_health_data)\n",
        "summary(full_income_model)\n"
      ],
      "metadata": {
        "colab": {
          "base_uri": "https://localhost:8080/",
          "height": 1000
        },
        "id": "I-IHpurBy4k8",
        "outputId": "35d917f2-40d9-4402-fa18-3e0b2d55f206"
      },
      "execution_count": null,
      "outputs": [
        {
          "output_type": "display_data",
          "data": {
            "text/plain": [
              "\n",
              "Call:\n",
              "lm(formula = pct_CHD ~ income + gini + pct_poverty + pct_unemployment + \n",
              "    air_quality + pct_park_access + urban_rural_status, data = main_health_data)\n",
              "\n",
              "Residuals:\n",
              "     Min       1Q   Median       3Q      Max \n",
              "-0.92056 -0.38168 -0.05756  0.19324  1.44807 \n",
              "\n",
              "Coefficients:\n",
              "                     Estimate Std. Error t value Pr(>|t|)    \n",
              "(Intercept)        53.8516445  8.1845876   6.580 2.73e-08 ***\n",
              "income             -4.4341685  0.6883080  -6.442 4.48e-08 ***\n",
              "gini                8.7554455  3.1760429   2.757 0.008128 ** \n",
              "pct_poverty        -0.1609410  0.0409804  -3.927 0.000264 ***\n",
              "pct_unemployment   -0.0644687  0.0518286  -1.244 0.219343    \n",
              "air_quality        -0.0359162  0.0431949  -0.831 0.409649    \n",
              "pct_park_access    -0.0007627  0.0050244  -0.152 0.879963    \n",
              "urban_rural_status  0.4043828  0.1468016   2.755 0.008174 ** \n",
              "---\n",
              "Signif. codes:  0 ‘***’ 0.001 ‘**’ 0.01 ‘*’ 0.05 ‘.’ 0.1 ‘ ’ 1\n",
              "\n",
              "Residual standard error: 0.6157 on 50 degrees of freedom\n",
              "Multiple R-squared:  0.8065,\tAdjusted R-squared:  0.7794 \n",
              "F-statistic: 29.77 on 7 and 50 DF,  p-value: 9.773e-16\n"
            ]
          },
          "metadata": {}
        },
        {
          "output_type": "display_data",
          "data": {
            "text/plain": [
              "\n",
              "Call:\n",
              "lm(formula = pct_CHD ~ income + gini + pct_poverty + urban_rural_status, \n",
              "    data = main_health_data)\n",
              "\n",
              "Residuals:\n",
              "    Min      1Q  Median      3Q     Max \n",
              "-1.0240 -0.3952 -0.0713  0.2235  1.5856 \n",
              "\n",
              "Coefficients:\n",
              "                   Estimate Std. Error t value Pr(>|t|)    \n",
              "(Intercept)        51.72682    8.08100   6.401 4.14e-08 ***\n",
              "income             -4.35076    0.68530  -6.349 5.02e-08 ***\n",
              "gini               10.19727    2.79593   3.647 0.000606 ***\n",
              "pct_poverty        -0.18776    0.03748  -5.009 6.43e-06 ***\n",
              "urban_rural_status  0.47896    0.12232   3.915 0.000260 ***\n",
              "---\n",
              "Signif. codes:  0 ‘***’ 0.001 ‘**’ 0.01 ‘*’ 0.05 ‘.’ 0.1 ‘ ’ 1\n",
              "\n",
              "Residual standard error: 0.6157 on 53 degrees of freedom\n",
              "Multiple R-squared:  0.7949,\tAdjusted R-squared:  0.7794 \n",
              "F-statistic: 51.34 on 4 and 53 DF,  p-value: < 2.2e-16\n"
            ]
          },
          "metadata": {}
        },
        {
          "output_type": "display_data",
          "data": {
            "text/plain": [
              "\n",
              "Call:\n",
              "lm(formula = pct_high_BP ~ income + gini + pct_poverty + pct_unemployment + \n",
              "    air_quality + pct_park_access + urban_rural_status, data = main_health_data)\n",
              "\n",
              "Residuals:\n",
              "    Min      1Q  Median      3Q     Max \n",
              "-3.6732 -0.9444 -0.0369  1.0669  4.0592 \n",
              "\n",
              "Coefficients:\n",
              "                     Estimate Std. Error t value Pr(>|t|)    \n",
              "(Intercept)        170.484846  23.442118   7.273 2.25e-09 ***\n",
              "income             -13.026112   1.971437  -6.607 2.47e-08 ***\n",
              "gini                25.251390   9.096753   2.776  0.00773 ** \n",
              "pct_poverty         -0.532790   0.117375  -4.539 3.57e-05 ***\n",
              "pct_unemployment    -0.246337   0.148446  -1.659  0.10329    \n",
              "air_quality          0.034437   0.123718   0.278  0.78189    \n",
              "pct_park_access      0.001616   0.014391   0.112  0.91105    \n",
              "urban_rural_status   1.248070   0.420466   2.968  0.00459 ** \n",
              "---\n",
              "Signif. codes:  0 ‘***’ 0.001 ‘**’ 0.01 ‘*’ 0.05 ‘.’ 0.1 ‘ ’ 1\n",
              "\n",
              "Residual standard error: 1.763 on 50 degrees of freedom\n",
              "Multiple R-squared:  0.7903,\tAdjusted R-squared:  0.761 \n",
              "F-statistic: 26.92 on 7 and 50 DF,  p-value: 6.926e-15\n"
            ]
          },
          "metadata": {}
        },
        {
          "output_type": "display_data",
          "data": {
            "text/plain": [
              "\n",
              "Call:\n",
              "lm(formula = pct_high_BP ~ income + gini + pct_poverty + urban_rural_status, \n",
              "    data = main_health_data)\n",
              "\n",
              "Residuals:\n",
              "    Min      1Q  Median      3Q     Max \n",
              "-3.9175 -0.8715 -0.2138  1.0147  4.3107 \n",
              "\n",
              "Coefficients:\n",
              "                   Estimate Std. Error t value Pr(>|t|)    \n",
              "(Intercept)        166.3622    23.1576   7.184 2.28e-09 ***\n",
              "income             -12.7198     1.9638  -6.477 3.13e-08 ***\n",
              "gini                26.7794     8.0122   3.342  0.00153 ** \n",
              "pct_poverty         -0.5841     0.1074  -5.438 1.40e-06 ***\n",
              "urban_rural_status   1.1931     0.3505   3.404  0.00127 ** \n",
              "---\n",
              "Signif. codes:  0 ‘***’ 0.001 ‘**’ 0.01 ‘*’ 0.05 ‘.’ 0.1 ‘ ’ 1\n",
              "\n",
              "Residual standard error: 1.764 on 53 degrees of freedom\n",
              "Multiple R-squared:  0.7775,\tAdjusted R-squared:  0.7607 \n",
              "F-statistic:  46.3 on 4 and 53 DF,  p-value: < 2.2e-16\n"
            ]
          },
          "metadata": {}
        },
        {
          "output_type": "display_data",
          "data": {
            "text/plain": [
              "\n",
              "Call:\n",
              "lm(formula = pct_stroke ~ income + gini + pct_poverty + pct_unemployment + \n",
              "    air_quality + pct_park_access + urban_rural_status, data = main_health_data)\n",
              "\n",
              "Residuals:\n",
              "     Min       1Q   Median       3Q      Max \n",
              "-0.50744 -0.11850  0.00518  0.11410  0.59347 \n",
              "\n",
              "Coefficients:\n",
              "                    Estimate Std. Error t value Pr(>|t|)    \n",
              "(Intercept)        25.047134   3.497173   7.162 3.35e-09 ***\n",
              "income             -1.996841   0.294106  -6.790 1.28e-08 ***\n",
              "gini                3.130693   1.357084   2.307 0.025239 *  \n",
              "pct_poverty        -0.063223   0.017510  -3.611 0.000707 ***\n",
              "pct_unemployment   -0.010647   0.022146  -0.481 0.632763    \n",
              "air_quality        -0.012299   0.018457  -0.666 0.508248    \n",
              "pct_park_access    -0.001031   0.002147  -0.480 0.633256    \n",
              "urban_rural_status  0.123949   0.062726   1.976 0.053684 .  \n",
              "---\n",
              "Signif. codes:  0 ‘***’ 0.001 ‘**’ 0.01 ‘*’ 0.05 ‘.’ 0.1 ‘ ’ 1\n",
              "\n",
              "Residual standard error: 0.2631 on 50 degrees of freedom\n",
              "Multiple R-squared:  0.8049,\tAdjusted R-squared:  0.7776 \n",
              "F-statistic: 29.48 on 7 and 50 DF,  p-value: 1.189e-15\n"
            ]
          },
          "metadata": {}
        },
        {
          "output_type": "display_data",
          "data": {
            "text/plain": [
              "\n",
              "Call:\n",
              "lm(formula = pct_stroke ~ income + gini + pct_poverty, data = main_health_data)\n",
              "\n",
              "Residuals:\n",
              "    Min      1Q  Median      3Q     Max \n",
              "-0.5376 -0.1493 -0.0315  0.1088  0.7506 \n",
              "\n",
              "Coefficients:\n",
              "            Estimate Std. Error t value Pr(>|t|)    \n",
              "(Intercept) 31.81968    2.52107  12.621  < 2e-16 ***\n",
              "income      -2.58550    0.21907 -11.802  < 2e-16 ***\n",
              "gini         3.77520    1.24581   3.030  0.00375 ** \n",
              "pct_poverty -0.08537    0.01571  -5.436 1.35e-06 ***\n",
              "---\n",
              "Signif. codes:  0 ‘***’ 0.001 ‘**’ 0.01 ‘*’ 0.05 ‘.’ 0.1 ‘ ’ 1\n",
              "\n",
              "Residual standard error: 0.2762 on 54 degrees of freedom\n",
              "Multiple R-squared:  0.7678,\tAdjusted R-squared:  0.7549 \n",
              "F-statistic: 59.53 on 3 and 54 DF,  p-value: < 2.2e-16\n"
            ]
          },
          "metadata": {}
        }
      ]
    },
    {
      "cell_type": "markdown",
      "source": [
        "## Just With Health Care Factors"
      ],
      "metadata": {
        "id": "pjxzK5MMy7f6"
      }
    },
    {
      "cell_type": "code",
      "source": [
        "## Just w HEALTH CARE FACTORS\n",
        "### CHD\n",
        "full_health_model <- lm(pct_CHD ~ num_hospitals\t+ pop_per_primary_dr + pop_per_cvd_dr + pop_per_neuro_dr + pop_per_neuro_surg_dr + pct_no_health_insur,\n",
        "                      data = main_health_data)\n",
        "summary(full_health_model)\n",
        "\n",
        "#### HIGH BP\n",
        "full_health_model <- lm(pct_high_BP ~ num_hospitals\t+ pop_per_primary_dr + pop_per_cvd_dr + pop_per_neuro_dr + pop_per_neuro_surg_dr + pct_no_health_insur,\n",
        "                    data = main_health_data)\n",
        "summary(full_health_model)\n",
        "\n",
        "#### STROKE\n",
        "full_health_model <- lm(pct_stroke ~ num_hospitals\t+ pop_per_primary_dr + pop_per_cvd_dr + pop_per_neuro_dr + pop_per_neuro_surg_dr + pct_no_health_insur,\n",
        "                    data = main_health_data)\n",
        "summary(full_health_model)\n"
      ],
      "metadata": {
        "colab": {
          "base_uri": "https://localhost:8080/",
          "height": 1000
        },
        "id": "U_RycVJXy4yK",
        "outputId": "8fd0da49-4ccc-4e40-f675-39fb4068dce0"
      },
      "execution_count": null,
      "outputs": [
        {
          "output_type": "display_data",
          "data": {
            "text/plain": [
              "\n",
              "Call:\n",
              "lm(formula = pct_CHD ~ num_hospitals + pop_per_primary_dr + pop_per_cvd_dr + \n",
              "    pop_per_neuro_dr + pop_per_neuro_surg_dr + pct_no_health_insur, \n",
              "    data = main_health_data)\n",
              "\n",
              "Residuals:\n",
              "     Min       1Q   Median       3Q      Max \n",
              "-1.01696 -0.29650 -0.06547  0.23569  1.37004 \n",
              "\n",
              "Coefficients:\n",
              "                        Estimate Std. Error t value Pr(>|t|)    \n",
              "(Intercept)            4.5630403  0.3695942  12.346 2.23e-12 ***\n",
              "num_hospitals         -0.0161069  0.0083163  -1.937   0.0637 .  \n",
              "pop_per_primary_dr    -0.1690984  0.3496077  -0.484   0.6327    \n",
              "pop_per_cvd_dr         0.0052330  0.0092856   0.564   0.5779    \n",
              "pop_per_neuro_dr       0.0094780  0.0068386   1.386   0.1775    \n",
              "pop_per_neuro_surg_dr -0.0003844  0.0007588  -0.507   0.6167    \n",
              "pct_no_health_insur    0.1196292  0.0593958   2.014   0.0545 .  \n",
              "---\n",
              "Signif. codes:  0 ‘***’ 0.001 ‘**’ 0.01 ‘*’ 0.05 ‘.’ 0.1 ‘ ’ 1\n",
              "\n",
              "Residual standard error: 0.5379 on 26 degrees of freedom\n",
              "  (25 observations deleted due to missingness)\n",
              "Multiple R-squared:  0.4907,\tAdjusted R-squared:  0.3732 \n",
              "F-statistic: 4.175 on 6 and 26 DF,  p-value: 0.004544\n"
            ]
          },
          "metadata": {}
        },
        {
          "output_type": "display_data",
          "data": {
            "text/plain": [
              "\n",
              "Call:\n",
              "lm(formula = pct_high_BP ~ num_hospitals + pop_per_primary_dr + \n",
              "    pop_per_cvd_dr + pop_per_neuro_dr + pop_per_neuro_surg_dr + \n",
              "    pct_no_health_insur, data = main_health_data)\n",
              "\n",
              "Residuals:\n",
              "    Min      1Q  Median      3Q     Max \n",
              "-4.1098 -1.0717 -0.0248  1.1987  2.8216 \n",
              "\n",
              "Coefficients:\n",
              "                        Estimate Std. Error t value Pr(>|t|)    \n",
              "(Intercept)           26.2138327  1.2355778  21.216   <2e-16 ***\n",
              "num_hospitals         -0.0234867  0.0278019  -0.845    0.406    \n",
              "pop_per_primary_dr    -0.1493859  1.1687616  -0.128    0.899    \n",
              "pop_per_cvd_dr         0.0148503  0.0310424   0.478    0.636    \n",
              "pop_per_neuro_dr       0.0165881  0.0228619   0.726    0.475    \n",
              "pop_per_neuro_surg_dr  0.0004482  0.0025367   0.177    0.861    \n",
              "pct_no_health_insur    0.2929643  0.1985639   1.475    0.152    \n",
              "---\n",
              "Signif. codes:  0 ‘***’ 0.001 ‘**’ 0.01 ‘*’ 0.05 ‘.’ 0.1 ‘ ’ 1\n",
              "\n",
              "Residual standard error: 1.798 on 26 degrees of freedom\n",
              "  (25 observations deleted due to missingness)\n",
              "Multiple R-squared:  0.3061,\tAdjusted R-squared:  0.1459 \n",
              "F-statistic: 1.911 on 6 and 26 DF,  p-value: 0.1168\n"
            ]
          },
          "metadata": {}
        },
        {
          "output_type": "display_data",
          "data": {
            "text/plain": [
              "\n",
              "Call:\n",
              "lm(formula = pct_stroke ~ num_hospitals + pop_per_primary_dr + \n",
              "    pop_per_cvd_dr + pop_per_neuro_dr + pop_per_neuro_surg_dr + \n",
              "    pct_no_health_insur, data = main_health_data)\n",
              "\n",
              "Residuals:\n",
              "     Min       1Q   Median       3Q      Max \n",
              "-0.48247 -0.12867 -0.00969  0.11618  0.58449 \n",
              "\n",
              "Coefficients:\n",
              "                        Estimate Std. Error t value Pr(>|t|)    \n",
              "(Intercept)            2.339e+00  1.568e-01  14.915 2.95e-14 ***\n",
              "num_hospitals         -3.660e-03  3.529e-03  -1.037   0.3092    \n",
              "pop_per_primary_dr     8.316e-04  1.483e-01   0.006   0.9956    \n",
              "pop_per_cvd_dr         2.720e-03  3.940e-03   0.690   0.4961    \n",
              "pop_per_neuro_dr       4.281e-03  2.902e-03   1.475   0.1521    \n",
              "pop_per_neuro_surg_dr  6.792e-05  3.220e-04   0.211   0.8346    \n",
              "pct_no_health_insur    5.646e-02  2.520e-02   2.240   0.0338 *  \n",
              "---\n",
              "Signif. codes:  0 ‘***’ 0.001 ‘**’ 0.01 ‘*’ 0.05 ‘.’ 0.1 ‘ ’ 1\n",
              "\n",
              "Residual standard error: 0.2282 on 26 degrees of freedom\n",
              "  (25 observations deleted due to missingness)\n",
              "Multiple R-squared:  0.5899,\tAdjusted R-squared:  0.4953 \n",
              "F-statistic: 6.233 on 6 and 26 DF,  p-value: 0.0003744\n"
            ]
          },
          "metadata": {}
        },
        {
          "output_type": "display_data",
          "data": {
            "text/plain": [
              "\n",
              "Call:\n",
              "lm(formula = pct_stroke ~ pct_no_health_insur, data = main_health_data)\n",
              "\n",
              "Residuals:\n",
              "    Min      1Q  Median      3Q     Max \n",
              "-0.8350 -0.4164 -0.1577  0.3520  1.5455 \n",
              "\n",
              "Coefficients:\n",
              "                    Estimate Std. Error t value Pr(>|t|)    \n",
              "(Intercept)          2.90650    0.29998   9.689 1.42e-13 ***\n",
              "pct_no_health_insur  0.05194    0.03808   1.364    0.178    \n",
              "---\n",
              "Signif. codes:  0 ‘***’ 0.001 ‘**’ 0.01 ‘*’ 0.05 ‘.’ 0.1 ‘ ’ 1\n",
              "\n",
              "Residual standard error: 0.5537 on 56 degrees of freedom\n",
              "Multiple R-squared:  0.03215,\tAdjusted R-squared:  0.01487 \n",
              "F-statistic:  1.86 on 1 and 56 DF,  p-value: 0.1781\n"
            ]
          },
          "metadata": {}
        }
      ]
    },
    {
      "cell_type": "markdown",
      "source": [
        "## Social, Economic, & Environmental Data and Health Data (Together)"
      ],
      "metadata": {
        "id": "3U0Y-2ffCAWZ"
      }
    },
    {
      "cell_type": "code",
      "source": [
        "### CHD\n",
        "full_income_health_model <- lm(pct_CHD ~ income + gini + pct_poverty + pct_unemployment + air_quality + pct_park_access + urban_rural_status +\n",
        "                              num_hospitals\t+ pop_per_primary_dr + pop_per_cvd_dr + pop_per_neuro_dr + pop_per_neuro_surg_dr + pct_no_health_insur,\n",
        "                              data = main_health_data)\n",
        "summary(full_income_health_model)\n",
        "\n",
        "#### HIGH BP\n",
        "full_income_health_model <- lm(pct_high_BP ~ income + gini + pct_poverty + pct_unemployment + air_quality + pct_park_access + urban_rural_status +\n",
        "                              num_hospitals+ pop_per_primary_dr + pop_per_cvd_dr + pop_per_neuro_dr + pop_per_neuro_surg_dr + pct_no_health_insur,\n",
        "                              data = main_health_data)\n",
        "summary(full_income_health_model)\n",
        "\n",
        "#### STROKE\n",
        "full_income_health_model <- lm(pct_stroke ~ income + gini + pct_poverty + pct_unemployment + air_quality + pct_park_access + urban_rural_status +\n",
        "                              num_hospitals\t+ pop_per_primary_dr + pop_per_cvd_dr + pop_per_neuro_dr + pop_per_neuro_surg_dr + pct_no_health_insur,\n",
        "                              data = main_health_data)\n",
        "summary(full_income_health_model)"
      ],
      "metadata": {
        "id": "Wc4tJCb6B-CI"
      },
      "execution_count": null,
      "outputs": []
    },
    {
      "cell_type": "markdown",
      "metadata": {
        "id": "dLxbst6KCCMd"
      },
      "source": [
        "# Lasso Regresion"
      ]
    },
    {
      "cell_type": "code",
      "execution_count": null,
      "metadata": {
        "id": "5j3h5Hs6HUiW"
      },
      "outputs": [],
      "source": [
        "# extract data from main dataset for lasso regression\n",
        "df = na.omit(main_health_data)\n",
        "N = nrow(df)\n",
        "all_x_var = data.matrix(df[, -c(1, 2, 3, 4)])\n",
        "risk_x_var = data.matrix(df[, c(\"pct_high_chol\", \"pct_diabetes\", \"pct_obesity\", \"pct_phys_inactivity\", \"pct_current_smoker\")])\n",
        "income_x_var = data.matrix(df[, c(\"income\", \"gini\", \"pct_poverty\", \"pct_unemployment\", \"air_quality\", \"pct_park_access\", \"urban_rural_status\")])\n",
        "health_x_var = data.matrix(df[, c(\"num_hospitals\", \"pop_per_primary_dr\", \"pop_per_cvd_dr\", \"pop_per_neuro_dr\", \"pop_per_neuro_surg_dr\", \"pct_no_health_insur\")])\n",
        "income_health_x_var = data.matrix(df[, c(\"income\", \"gini\", \"pct_poverty\", \"pct_unemployment\", \"air_quality\", \"pct_park_access\", \"urban_rural_status\", \"num_hospitals\", \"pop_per_primary_dr\", \"pop_per_cvd_dr\", \"pop_per_neuro_dr\", \"pop_per_neuro_surg_dr\", \"pct_no_health_insur\")])\n",
        "CHD_y_var = df[, \"pct_CHD\"]\n",
        "BP_y_var = df[, \"pct_high_BP\"]\n",
        "stroke_y_var = df[, \"pct_stroke\"]\n",
        "lambda_seq = 10^seq(2, -2, by = -.1)"
      ]
    },
    {
      "cell_type": "code",
      "execution_count": null,
      "metadata": {
        "id": "aqDB0hBJPYTA"
      },
      "outputs": [],
      "source": [
        "# set up lasso regression\n",
        "set.seed(100)\n",
        "train = sample(1:N, N/2)\n",
        "x_test = (-train)\n",
        "CHD_y_test = CHD_y_var[x_test]\n",
        "BP_y_test = BP_y_var[x_test]\n",
        "stroke_y_test = stroke_y_var[x_test]"
      ]
    },
    {
      "cell_type": "code",
      "execution_count": null,
      "metadata": {
        "colab": {
          "base_uri": "https://localhost:8080/",
          "height": 381
        },
        "id": "4vnj6xLmPhvL",
        "outputId": "6725bbdf-7ee7-42de-d71a-e428bf0f2f1f"
      },
      "outputs": [
        {
          "output_type": "display_data",
          "data": {
            "text/plain": [
              "19 x 1 sparse Matrix of class \"dgCMatrix\"\n",
              "                                s0\n",
              "(Intercept)            2.877871169\n",
              "pct_high_chol          0.079875715\n",
              "pct_diabetes           .          \n",
              "pct_obesity            .          \n",
              "pct_phys_inactivity    .          \n",
              "pct_current_smoker     .          \n",
              "income                 .          \n",
              "gini                   .          \n",
              "pct_poverty            .          \n",
              "pct_unemployment       .          \n",
              "air_quality            .          \n",
              "pct_park_access       -0.012770298\n",
              "urban_rural_status     0.308994528\n",
              "num_hospitals          .          \n",
              "pop_per_primary_dr     .          \n",
              "pop_per_cvd_dr         .          \n",
              "pop_per_neuro_dr       0.001666054\n",
              "pop_per_neuro_surg_dr  .          \n",
              "pct_no_health_insur    .          "
            ]
          },
          "metadata": {}
        }
      ],
      "source": [
        "# coronary heart disease\n",
        "all_CHD_output = cv.glmnet(all_x_var[train,], CHD_y_var[train], alpha = 1, lambda = lambda_seq, nfolds = 5)\n",
        "all_CHD_lasso = glmnet(all_x_var[train,], CHD_y_var[train], alpha = 1, lambda = all_CHD_output$lambda.min)\n",
        "coef(all_CHD_lasso)"
      ]
    },
    {
      "cell_type": "code",
      "source": [
        "risk_CHD_output = cv.glmnet(risk_x_var[train,], CHD_y_var[train], alpha = 1, lambda = lambda_seq, nfolds = 5)\n",
        "risk_CHD_lasso = glmnet(risk_x_var[train,], CHD_y_var[train], alpha = 1, lambda = risk_CHD_output$lambda.min)\n",
        "coef(risk_CHD_lasso)"
      ],
      "metadata": {
        "colab": {
          "base_uri": "https://localhost:8080/",
          "height": 156
        },
        "id": "QQo-y1yo7iTr",
        "outputId": "17067b31-9e4c-430f-e55b-e765e174224e"
      },
      "execution_count": null,
      "outputs": [
        {
          "output_type": "display_data",
          "data": {
            "text/plain": [
              "6 x 1 sparse Matrix of class \"dgCMatrix\"\n",
              "                              s0\n",
              "(Intercept)         -0.847400361\n",
              "pct_high_chol        0.177082045\n",
              "pct_diabetes        -0.351393112\n",
              "pct_obesity          0.039035397\n",
              "pct_phys_inactivity -0.001772555\n",
              "pct_current_smoker   0.189028630"
            ]
          },
          "metadata": {}
        }
      ]
    },
    {
      "cell_type": "code",
      "source": [
        "income_CHD_output = cv.glmnet(income_x_var[train,], CHD_y_var[train], alpha = 1, lambda = lambda_seq, nfolds = 5)\n",
        "income_CHD_lasso = glmnet(income_x_var[train,], CHD_y_var[train], alpha = 1, lambda = income_CHD_output$lambda.min)\n",
        "coef(income_CHD_lasso)"
      ],
      "metadata": {
        "colab": {
          "base_uri": "https://localhost:8080/",
          "height": 191
        },
        "id": "Em84qN067iaZ",
        "outputId": "2ca2f160-b6a6-4e7a-865d-a06bbcd26a94"
      },
      "execution_count": null,
      "outputs": [
        {
          "output_type": "display_data",
          "data": {
            "text/plain": [
              "8 x 1 sparse Matrix of class \"dgCMatrix\"\n",
              "                            s0\n",
              "(Intercept)         7.21048244\n",
              "income             -0.12825672\n",
              "gini                .         \n",
              "pct_poverty         .         \n",
              "pct_unemployment    .         \n",
              "air_quality         .         \n",
              "pct_park_access    -0.01425359\n",
              "urban_rural_status  0.35123240"
            ]
          },
          "metadata": {}
        }
      ]
    },
    {
      "cell_type": "code",
      "source": [
        "health_CHD_output = cv.glmnet(health_x_var[train,], CHD_y_var[train], alpha = 1, lambda = lambda_seq, nfolds = 5)\n",
        "health_CHD_lasso = glmnet(health_x_var[train,], CHD_y_var[train], alpha = 1, lambda = health_CHD_output$lambda.min)\n",
        "coef(health_CHD_lasso)"
      ],
      "metadata": {
        "colab": {
          "base_uri": "https://localhost:8080/",
          "height": 173
        },
        "id": "Max-TfsB7igQ",
        "outputId": "def72c7c-f73c-41e0-c5af-444b8b1e392f"
      },
      "execution_count": null,
      "outputs": [
        {
          "output_type": "display_data",
          "data": {
            "text/plain": [
              "7 x 1 sparse Matrix of class \"dgCMatrix\"\n",
              "                                 s0\n",
              "(Intercept)            5.2452834470\n",
              "num_hospitals         -0.0005866721\n",
              "pop_per_primary_dr     .           \n",
              "pop_per_cvd_dr         0.0072289572\n",
              "pop_per_neuro_dr       0.0040236359\n",
              "pop_per_neuro_surg_dr  .           \n",
              "pct_no_health_insur    .           "
            ]
          },
          "metadata": {}
        }
      ]
    },
    {
      "cell_type": "code",
      "source": [
        "income_health_CHD_output = cv.glmnet(income_health_x_var[train,], CHD_y_var[train], alpha = 1, lambda = lambda_seq, nfolds = 5)\n",
        "income_health_CHD_lasso = glmnet(income_health_x_var[train,], CHD_y_var[train], alpha = 1, lambda = income_health_CHD_output$lambda.min)\n",
        "coef(income_health_CHD_lasso)"
      ],
      "metadata": {
        "colab": {
          "base_uri": "https://localhost:8080/",
          "height": 295
        },
        "id": "Yr1sYBeFErDl",
        "outputId": "9a07501c-0a5e-46e6-c236-ab61d1bb032e"
      },
      "execution_count": null,
      "outputs": [
        {
          "output_type": "display_data",
          "data": {
            "text/plain": [
              "14 x 1 sparse Matrix of class \"dgCMatrix\"\n",
              "                                s0\n",
              "(Intercept)            6.353749154\n",
              "income                 .          \n",
              "gini                  -1.184399754\n",
              "pct_poverty           -0.003323457\n",
              "pct_unemployment       .          \n",
              "air_quality            .          \n",
              "pct_park_access       -0.015460044\n",
              "urban_rural_status     0.399027745\n",
              "num_hospitals          .          \n",
              "pop_per_primary_dr     0.025892698\n",
              "pop_per_cvd_dr         .          \n",
              "pop_per_neuro_dr       0.002324873\n",
              "pop_per_neuro_surg_dr -0.001897621\n",
              "pct_no_health_insur    .          "
            ]
          },
          "metadata": {}
        }
      ]
    },
    {
      "cell_type": "code",
      "execution_count": null,
      "metadata": {
        "colab": {
          "base_uri": "https://localhost:8080/",
          "height": 381
        },
        "id": "CrVD-z2NPk4J",
        "outputId": "33d7143f-5129-4c34-d1cf-f47006335231"
      },
      "outputs": [
        {
          "output_type": "display_data",
          "data": {
            "text/plain": [
              "19 x 1 sparse Matrix of class \"dgCMatrix\"\n",
              "                               s0\n",
              "(Intercept)           13.95929396\n",
              "pct_high_chol          0.51212462\n",
              "pct_diabetes           .         \n",
              "pct_obesity            .         \n",
              "pct_phys_inactivity    .         \n",
              "pct_current_smoker     .         \n",
              "income                 .         \n",
              "gini                   .         \n",
              "pct_poverty            .         \n",
              "pct_unemployment       .         \n",
              "air_quality            .         \n",
              "pct_park_access       -0.06059281\n",
              "urban_rural_status     0.54857567\n",
              "num_hospitals          .         \n",
              "pop_per_primary_dr     .         \n",
              "pop_per_cvd_dr         .         \n",
              "pop_per_neuro_dr       .         \n",
              "pop_per_neuro_surg_dr  .         \n",
              "pct_no_health_insur    .         "
            ]
          },
          "metadata": {}
        }
      ],
      "source": [
        "# blood pressure\n",
        "all_BP_output = cv.glmnet(all_x_var[train,], BP_y_var[train], alpha = 1, lambda = lambda_seq, nfolds = 5)\n",
        "all_BP_lasso = glmnet(all_x_var[train,], BP_y_var[train], alpha = 1, lambda = all_BP_output$lambda.min)\n",
        "coef(all_BP_lasso)"
      ]
    },
    {
      "cell_type": "code",
      "source": [
        "risk_BP_output = cv.glmnet(risk_x_var[train,], BP_y_var[train], alpha = 1, lambda = lambda_seq, nfolds = 5)\n",
        "risk_BP_lasso = glmnet(risk_x_var[train,], BP_y_var[train], alpha = 1, lambda = risk_BP_output$lambda.min)\n",
        "coef(risk_BP_lasso)"
      ],
      "metadata": {
        "colab": {
          "base_uri": "https://localhost:8080/",
          "height": 156
        },
        "id": "f1H43La17jhH",
        "outputId": "bdb1ed98-c53d-47ec-dffe-05598ecb4363"
      },
      "execution_count": null,
      "outputs": [
        {
          "output_type": "display_data",
          "data": {
            "text/plain": [
              "6 x 1 sparse Matrix of class \"dgCMatrix\"\n",
              "                            s0\n",
              "(Intercept)         -0.3486455\n",
              "pct_high_chol        0.7660553\n",
              "pct_diabetes        -0.6004426\n",
              "pct_obesity          0.1177603\n",
              "pct_phys_inactivity  .        \n",
              "pct_current_smoker   0.3723790"
            ]
          },
          "metadata": {}
        }
      ]
    },
    {
      "cell_type": "code",
      "source": [
        "income_BP_output = cv.glmnet(income_x_var[train,], BP_y_var[train], alpha = 1, lambda = lambda_seq, nfolds = 5)\n",
        "income_BP_lasso = glmnet(income_x_var[train,], BP_y_var[train], alpha = 1, lambda = income_BP_output$lambda.min)\n",
        "coef(income_BP_lasso)"
      ],
      "metadata": {
        "colab": {
          "base_uri": "https://localhost:8080/",
          "height": 191
        },
        "id": "MJH_vRRV7jk6",
        "outputId": "98906ba1-4489-4ab0-a69f-99a7d5368fd9"
      },
      "execution_count": null,
      "outputs": [
        {
          "output_type": "display_data",
          "data": {
            "text/plain": [
              "8 x 1 sparse Matrix of class \"dgCMatrix\"\n",
              "                            s0\n",
              "(Intercept)        31.96591906\n",
              "income              .         \n",
              "gini                .         \n",
              "pct_poverty         .         \n",
              "pct_unemployment    .         \n",
              "air_quality         .         \n",
              "pct_park_access    -0.06952037\n",
              "urban_rural_status  0.78649443"
            ]
          },
          "metadata": {}
        }
      ]
    },
    {
      "cell_type": "code",
      "source": [
        "health_BP_output = cv.glmnet(health_x_var[train,], BP_y_var[train], alpha = 1, lambda = lambda_seq, nfolds = 5)\n",
        "health_BP_lasso = glmnet(health_x_var[train,], BP_y_var[train], alpha = 1, lambda = health_BP_output$lambda.min)\n",
        "coef(health_BP_lasso)"
      ],
      "metadata": {
        "colab": {
          "base_uri": "https://localhost:8080/",
          "height": 173
        },
        "id": "hzi-33-v7jrS",
        "outputId": "652be7db-4afd-4b17-803b-22d9abd95033"
      },
      "execution_count": null,
      "outputs": [
        {
          "output_type": "display_data",
          "data": {
            "text/plain": [
              "7 x 1 sparse Matrix of class \"dgCMatrix\"\n",
              "                          s0\n",
              "(Intercept)           29.025\n",
              "num_hospitals          0.000\n",
              "pop_per_primary_dr     .    \n",
              "pop_per_cvd_dr         .    \n",
              "pop_per_neuro_dr       .    \n",
              "pop_per_neuro_surg_dr  .    \n",
              "pct_no_health_insur    .    "
            ]
          },
          "metadata": {}
        }
      ]
    },
    {
      "cell_type": "code",
      "source": [
        "income_health_BP_output = cv.glmnet(income_health_x_var[train,], BP_y_var[train], alpha = 1, lambda = lambda_seq, nfolds = 5)\n",
        "income_health_BP_lasso = glmnet(income_health_x_var[train,], BP_y_var[train], alpha = 1, lambda = income_health_BP_output$lambda.min)\n",
        "coef(income_health_BP_lasso)"
      ],
      "metadata": {
        "colab": {
          "base_uri": "https://localhost:8080/",
          "height": 295
        },
        "id": "Q07RsWXfJOFb",
        "outputId": "72ed2f5c-1e8e-4283-eafe-fafbe17e40fc"
      },
      "execution_count": null,
      "outputs": [
        {
          "output_type": "display_data",
          "data": {
            "text/plain": [
              "14 x 1 sparse Matrix of class \"dgCMatrix\"\n",
              "                               s0\n",
              "(Intercept)           31.64672660\n",
              "income                 .         \n",
              "gini                   .         \n",
              "pct_poverty            .         \n",
              "pct_unemployment       .         \n",
              "air_quality            .         \n",
              "pct_park_access       -0.06011248\n",
              "urban_rural_status     0.65004636\n",
              "num_hospitals          .         \n",
              "pop_per_primary_dr     .         \n",
              "pop_per_cvd_dr         .         \n",
              "pop_per_neuro_dr       .         \n",
              "pop_per_neuro_surg_dr  .         \n",
              "pct_no_health_insur    .         "
            ]
          },
          "metadata": {}
        }
      ]
    },
    {
      "cell_type": "code",
      "execution_count": null,
      "metadata": {
        "colab": {
          "base_uri": "https://localhost:8080/",
          "height": 381
        },
        "id": "XTvNr6-wPmvP",
        "outputId": "7c9967b8-2e53-472f-b0a1-c2c037d48f4b"
      },
      "outputs": [
        {
          "output_type": "display_data",
          "data": {
            "text/plain": [
              "19 x 1 sparse Matrix of class \"dgCMatrix\"\n",
              "                                s0\n",
              "(Intercept)            0.736225807\n",
              "pct_high_chol          0.084069012\n",
              "pct_diabetes           .          \n",
              "pct_obesity            0.009545545\n",
              "pct_phys_inactivity    .          \n",
              "pct_current_smoker     .          \n",
              "income                 .          \n",
              "gini                  -2.375556561\n",
              "pct_poverty            .          \n",
              "pct_unemployment       .          \n",
              "air_quality            .          \n",
              "pct_park_access       -0.002790856\n",
              "urban_rural_status     0.102033033\n",
              "num_hospitals          .          \n",
              "pop_per_primary_dr     0.096417898\n",
              "pop_per_cvd_dr         .          \n",
              "pop_per_neuro_dr       .          \n",
              "pop_per_neuro_surg_dr  .          \n",
              "pct_no_health_insur    .          "
            ]
          },
          "metadata": {}
        }
      ],
      "source": [
        "# stroke\n",
        "all_stroke_output = cv.glmnet(all_x_var[train,], stroke_y_var[train], alpha = 1, lambda = lambda_seq, nfolds = 5)\n",
        "all_stroke_lasso = glmnet(all_x_var[train,], stroke_y_var[train], alpha = 1, lambda = all_stroke_output$lambda.min)\n",
        "coef(all_stroke_lasso)"
      ]
    },
    {
      "cell_type": "code",
      "source": [
        "risk_stroke_output = cv.glmnet(risk_x_var[train,], stroke_y_var[train], alpha = 1, lambda = lambda_seq, nfolds = 5)\n",
        "risk_stroke_lasso = glmnet(risk_x_var[train,], stroke_y_var[train], alpha = 1, lambda = risk_stroke_output$lambda.min)\n",
        "coef(risk_stroke_lasso)"
      ],
      "metadata": {
        "colab": {
          "base_uri": "https://localhost:8080/",
          "height": 156
        },
        "id": "8J1vPr5n7oaX",
        "outputId": "f0327bc9-91b9-491c-c8aa-1762441f4d77"
      },
      "execution_count": null,
      "outputs": [
        {
          "output_type": "display_data",
          "data": {
            "text/plain": [
              "6 x 1 sparse Matrix of class \"dgCMatrix\"\n",
              "                              s0\n",
              "(Intercept)         -1.405374844\n",
              "pct_high_chol        0.106723134\n",
              "pct_diabetes        -0.094135785\n",
              "pct_obesity          0.022412378\n",
              "pct_phys_inactivity  0.006260933\n",
              "pct_current_smoker   0.064407296"
            ]
          },
          "metadata": {}
        }
      ]
    },
    {
      "cell_type": "code",
      "source": [
        "income_stroke_output = cv.glmnet(income_x_var[train,], stroke_y_var[train], alpha = 1, lambda = lambda_seq, nfolds = 5)\n",
        "income_stroke_lasso = glmnet(income_x_var[train,], stroke_y_var[train], alpha = 1, lambda = income_stroke_output$lambda.min)\n",
        "coef(income_stroke_lasso)"
      ],
      "metadata": {
        "colab": {
          "base_uri": "https://localhost:8080/",
          "height": 191
        },
        "id": "Kdlm5HZr7oef",
        "outputId": "e79d49e2-98c4-4fdd-ab7b-ff7adae7a522"
      },
      "execution_count": null,
      "outputs": [
        {
          "output_type": "display_data",
          "data": {
            "text/plain": [
              "8 x 1 sparse Matrix of class \"dgCMatrix\"\n",
              "                             s0\n",
              "(Intercept)         9.524815338\n",
              "income             -0.533016751\n",
              "gini               -0.702793903\n",
              "pct_poverty        -0.016881926\n",
              "pct_unemployment    0.026809272\n",
              "air_quality         0.001000337\n",
              "pct_park_access    -0.004910225\n",
              "urban_rural_status  0.115841984"
            ]
          },
          "metadata": {}
        }
      ]
    },
    {
      "cell_type": "code",
      "source": [
        "health_stroke_output = cv.glmnet(health_x_var[train,], stroke_y_var[train], alpha = 1, lambda = lambda_seq, nfolds = 5)\n",
        "health_stroke_lasso = glmnet(health_x_var[train,], stroke_y_var[train], alpha = 1, lambda = health_stroke_output$lambda.min)\n",
        "coef(health_stroke_lasso)"
      ],
      "metadata": {
        "colab": {
          "base_uri": "https://localhost:8080/",
          "height": 173
        },
        "id": "v1h6XJNa7ojw",
        "outputId": "ed55a4bc-1560-4b9d-af76-e337ef471594"
      },
      "execution_count": null,
      "outputs": [
        {
          "output_type": "display_data",
          "data": {
            "text/plain": [
              "7 x 1 sparse Matrix of class \"dgCMatrix\"\n",
              "                                s0\n",
              "(Intercept)           2.8379064077\n",
              "num_hospitals         .           \n",
              "pop_per_primary_dr    0.1184388498\n",
              "pop_per_cvd_dr        0.0001042871\n",
              "pop_per_neuro_dr      .           \n",
              "pop_per_neuro_surg_dr .           \n",
              "pct_no_health_insur   .           "
            ]
          },
          "metadata": {}
        }
      ]
    },
    {
      "cell_type": "code",
      "source": [
        "income_health_stroke_output = cv.glmnet(income_health_x_var[train,], stroke_y_var[train], alpha = 1, lambda = lambda_seq, nfolds = 5)\n",
        "income_health_stroke_lasso = glmnet(income_health_x_var[train,], stroke_y_var[train], alpha = 1, lambda = income_health_stroke_output$lambda.min)\n",
        "coef(income_health_stroke_lasso)"
      ],
      "metadata": {
        "colab": {
          "base_uri": "https://localhost:8080/",
          "height": 295
        },
        "id": "_83EnS3kJPvx",
        "outputId": "809c4d3e-33f2-4782-a2d6-77a601d34d80"
      },
      "execution_count": null,
      "outputs": [
        {
          "output_type": "display_data",
          "data": {
            "text/plain": [
              "14 x 1 sparse Matrix of class \"dgCMatrix\"\n",
              "                                s0\n",
              "(Intercept)            3.393544700\n",
              "income                -0.002045853\n",
              "gini                  -1.314790840\n",
              "pct_poverty            .          \n",
              "pct_unemployment       .          \n",
              "air_quality            .          \n",
              "pct_park_access       -0.005643205\n",
              "urban_rural_status     0.165982425\n",
              "num_hospitals          0.003218671\n",
              "pop_per_primary_dr     0.142619419\n",
              "pop_per_cvd_dr         .          \n",
              "pop_per_neuro_dr       .          \n",
              "pop_per_neuro_surg_dr  .          \n",
              "pct_no_health_insur    .          "
            ]
          },
          "metadata": {}
        }
      ]
    },
    {
      "cell_type": "markdown",
      "metadata": {
        "id": "fuPEEe6SnHHo"
      },
      "source": [
        "## Lasso Regression Models"
      ]
    },
    {
      "cell_type": "code",
      "execution_count": null,
      "metadata": {
        "colab": {
          "base_uri": "https://localhost:8080/",
          "height": 1000
        },
        "id": "ZVE5fXPSnOP2",
        "outputId": "17116696-804b-45e7-97b6-57ddf0f1bc5c"
      },
      "outputs": [
        {
          "output_type": "display_data",
          "data": {
            "text/plain": [
              "\n",
              "Call:\n",
              "lm(formula = pct_CHD ~ pct_high_chol + pct_park_access + urban_rural_status + \n",
              "    pop_per_neuro_surg_dr, data = main_health_data)\n",
              "\n",
              "Residuals:\n",
              "     Min       1Q   Median       3Q      Max \n",
              "-0.58587 -0.24341 -0.02971  0.16490  0.78631 \n",
              "\n",
              "Coefficients:\n",
              "                        Estimate Std. Error t value Pr(>|t|)   \n",
              "(Intercept)            2.0294985  1.9010034   1.068  0.29482   \n",
              "pct_high_chol          0.1226569  0.0505564   2.426  0.02195 * \n",
              "pct_park_access       -0.0195802  0.0054106  -3.619  0.00116 **\n",
              "urban_rural_status     0.3105722  0.0921982   3.369  0.00221 **\n",
              "pop_per_neuro_surg_dr -0.0005637  0.0004915  -1.147  0.26117   \n",
              "---\n",
              "Signif. codes:  0 ‘***’ 0.001 ‘**’ 0.01 ‘*’ 0.05 ‘.’ 0.1 ‘ ’ 1\n",
              "\n",
              "Residual standard error: 0.3481 on 28 degrees of freedom\n",
              "  (25 observations deleted due to missingness)\n",
              "Multiple R-squared:  0.7702,\tAdjusted R-squared:  0.7374 \n",
              "F-statistic: 23.47 on 4 and 28 DF,  p-value: 1.346e-08\n"
            ]
          },
          "metadata": {}
        },
        {
          "output_type": "display_data",
          "data": {
            "text/plain": [
              "\n",
              "Call:\n",
              "lm(formula = pct_CHD ~ pct_high_chol + pct_diabetes + pct_obesity + \n",
              "    pct_phys_inactivity + pct_current_smoker, data = main_health_data)\n",
              "\n",
              "Residuals:\n",
              "     Min       1Q   Median       3Q      Max \n",
              "-0.76764 -0.26538  0.03044  0.28481  0.99674 \n",
              "\n",
              "Coefficients:\n",
              "                     Estimate Std. Error t value Pr(>|t|)    \n",
              "(Intercept)         -7.078830   1.146843  -6.172 1.03e-07 ***\n",
              "pct_high_chol        0.338898   0.026765  12.662  < 2e-16 ***\n",
              "pct_diabetes        -0.169133   0.080453  -2.102   0.0404 *  \n",
              "pct_obesity          0.002554   0.015539   0.164   0.8701    \n",
              "pct_phys_inactivity -0.028775   0.034805  -0.827   0.4121    \n",
              "pct_current_smoker   0.223957   0.026887   8.330 3.85e-11 ***\n",
              "---\n",
              "Signif. codes:  0 ‘***’ 0.001 ‘**’ 0.01 ‘*’ 0.05 ‘.’ 0.1 ‘ ’ 1\n",
              "\n",
              "Residual standard error: 0.3946 on 52 degrees of freedom\n",
              "Multiple R-squared:  0.9173,\tAdjusted R-squared:  0.9094 \n",
              "F-statistic: 115.4 on 5 and 52 DF,  p-value: < 2.2e-16\n"
            ]
          },
          "metadata": {}
        },
        {
          "output_type": "display_data",
          "data": {
            "text/plain": [
              "\n",
              "Call:\n",
              "lm(formula = pct_CHD ~ income + pct_park_access + urban_rural_status, \n",
              "    data = main_health_data)\n",
              "\n",
              "Residuals:\n",
              "     Min       1Q   Median       3Q      Max \n",
              "-1.39514 -0.58037 -0.05754  0.47129  1.89614 \n",
              "\n",
              "Coefficients:\n",
              "                    Estimate Std. Error t value Pr(>|t|)    \n",
              "(Intercept)        23.479420   6.376309   3.682 0.000536 ***\n",
              "income             -1.749059   0.548311  -3.190 0.002371 ** \n",
              "pct_park_access     0.006670   0.005673   1.176 0.244852    \n",
              "urban_rural_status  0.719973   0.141146   5.101 4.48e-06 ***\n",
              "---\n",
              "Signif. codes:  0 ‘***’ 0.001 ‘**’ 0.01 ‘*’ 0.05 ‘.’ 0.1 ‘ ’ 1\n",
              "\n",
              "Residual standard error: 0.7555 on 54 degrees of freedom\n",
              "Multiple R-squared:  0.6853,\tAdjusted R-squared:  0.6679 \n",
              "F-statistic: 39.21 on 3 and 54 DF,  p-value: 1.371e-13\n"
            ]
          },
          "metadata": {}
        },
        {
          "output_type": "display_data",
          "data": {
            "text/plain": [
              "\n",
              "Call:\n",
              "lm(formula = pct_CHD ~ num_hospitals + pop_per_cvd_dr + pop_per_neuro_dr, \n",
              "    data = main_health_data)\n",
              "\n",
              "Residuals:\n",
              "    Min      1Q  Median      3Q     Max \n",
              "-1.3401 -0.4861 -0.1670  0.2761  2.3123 \n",
              "\n",
              "Coefficients:\n",
              "                  Estimate Std. Error t value Pr(>|t|)    \n",
              "(Intercept)       5.485706   0.317831  17.260   <2e-16 ***\n",
              "num_hospitals    -0.022050   0.011993  -1.839   0.0736 .  \n",
              "pop_per_cvd_dr    0.011092   0.010615   1.045   0.3025    \n",
              "pop_per_neuro_dr  0.005165   0.004907   1.052   0.2991    \n",
              "---\n",
              "Signif. codes:  0 ‘***’ 0.001 ‘**’ 0.01 ‘*’ 0.05 ‘.’ 0.1 ‘ ’ 1\n",
              "\n",
              "Residual standard error: 0.8743 on 39 degrees of freedom\n",
              "  (15 observations deleted due to missingness)\n",
              "Multiple R-squared:  0.2452,\tAdjusted R-squared:  0.1871 \n",
              "F-statistic: 4.223 on 3 and 39 DF,  p-value: 0.01117\n"
            ]
          },
          "metadata": {}
        },
        {
          "output_type": "display_data",
          "data": {
            "text/plain": [
              "\n",
              "Call:\n",
              "lm(formula = pct_CHD ~ gini + pct_poverty + pct_park_access + \n",
              "    urban_rural_status + pop_per_primary_dr + pop_per_neuro_dr + \n",
              "    pop_per_neuro_surg_dr, data = main_health_data)\n",
              "\n",
              "Residuals:\n",
              "     Min       1Q   Median       3Q      Max \n",
              "-0.63448 -0.21419 -0.03339  0.18358  0.94718 \n",
              "\n",
              "Coefficients:\n",
              "                        Estimate Std. Error t value Pr(>|t|)   \n",
              "(Intercept)            5.5150362  1.7877343   3.085  0.00492 **\n",
              "gini                   2.4869307  4.1290816   0.602  0.55240   \n",
              "pct_poverty           -0.0290143  0.0297316  -0.976  0.33848   \n",
              "pct_park_access       -0.0239298  0.0081319  -2.943  0.00693 **\n",
              "urban_rural_status     0.3523366  0.1160384   3.036  0.00553 **\n",
              "pop_per_primary_dr     0.1496483  0.2659343   0.563  0.57863   \n",
              "pop_per_neuro_dr       0.0012958  0.0048459   0.267  0.79135   \n",
              "pop_per_neuro_surg_dr -0.0005603  0.0005978  -0.937  0.35762   \n",
              "---\n",
              "Signif. codes:  0 ‘***’ 0.001 ‘**’ 0.01 ‘*’ 0.05 ‘.’ 0.1 ‘ ’ 1\n",
              "\n",
              "Residual standard error: 0.3928 on 25 degrees of freedom\n",
              "  (25 observations deleted due to missingness)\n",
              "Multiple R-squared:  0.7388,\tAdjusted R-squared:  0.6656 \n",
              "F-statistic:  10.1 on 7 and 25 DF,  p-value: 5.943e-06\n"
            ]
          },
          "metadata": {}
        }
      ],
      "source": [
        "# CHD\n",
        "lasso_full_CHD <- lm(pct_CHD ~ pct_high_chol + pct_park_access + urban_rural_status + pop_per_neuro_surg_dr, data = main_health_data)\n",
        "summary(lasso_full_CHD)\n",
        "\n",
        "lasso_risk_CHD <- lm(pct_CHD ~ pct_high_chol\t+ pct_diabetes + pct_obesity + pct_phys_inactivity + pct_current_smoker,\n",
        "                      data = main_health_data)\n",
        "summary(lasso_risk_CHD)\n",
        "\n",
        "lasso_income_CHD <- lm(pct_CHD ~ income + pct_park_access + urban_rural_status,\n",
        "                      data = main_health_data)\n",
        "summary(lasso_income_CHD)\n",
        "\n",
        "lasso_health_CHD <- lm(pct_CHD ~ num_hospitals\t+ pop_per_cvd_dr + pop_per_neuro_dr,\n",
        "                    data = main_health_data)\n",
        "summary(lasso_health_CHD)\n",
        "\n",
        "lasso_income_health_CHD <- lm(pct_CHD ~ gini + pct_poverty + pct_park_access + urban_rural_status + pop_per_primary_dr + pop_per_neuro_dr + pop_per_neuro_surg_dr,\n",
        "                    data = main_health_data)\n",
        "summary(lasso_income_health_CHD)\n"
      ]
    },
    {
      "cell_type": "code",
      "execution_count": null,
      "metadata": {
        "colab": {
          "base_uri": "https://localhost:8080/",
          "height": 1000
        },
        "id": "5mz-qPCkoM2e",
        "outputId": "218a7e12-359f-41e5-c16d-c5af85ec5e9b"
      },
      "outputs": [
        {
          "output_type": "display_data",
          "data": {
            "text/plain": [
              "\n",
              "Call:\n",
              "lm(formula = pct_high_BP ~ pct_high_chol + pct_obesity + pct_park_access + \n",
              "    urban_rural_status, data = main_health_data)\n",
              "\n",
              "Residuals:\n",
              "    Min      1Q  Median      3Q     Max \n",
              "-2.6422 -0.7211  0.1521  0.5887  4.2119 \n",
              "\n",
              "Coefficients:\n",
              "                     Estimate Std. Error t value Pr(>|t|)    \n",
              "(Intercept)        -11.269154   3.415280  -3.300  0.00174 ** \n",
              "pct_high_chol        1.019861   0.088297  11.550 4.30e-16 ***\n",
              "pct_obesity          0.068206   0.032577   2.094  0.04109 *  \n",
              "pct_park_access      0.001230   0.009901   0.124  0.90162    \n",
              "urban_rural_status   1.199614   0.236239   5.078 5.04e-06 ***\n",
              "---\n",
              "Signif. codes:  0 ‘***’ 0.001 ‘**’ 0.01 ‘*’ 0.05 ‘.’ 0.1 ‘ ’ 1\n",
              "\n",
              "Residual standard error: 1.269 on 53 degrees of freedom\n",
              "Multiple R-squared:  0.8849,\tAdjusted R-squared:  0.8762 \n",
              "F-statistic: 101.9 on 4 and 53 DF,  p-value: < 2.2e-16\n"
            ]
          },
          "metadata": {}
        },
        {
          "output_type": "display_data",
          "data": {
            "text/plain": [
              "\n",
              "Call:\n",
              "lm(formula = pct_high_BP ~ pct_high_chol + pct_diabetes + pct_obesity + \n",
              "    pct_current_smoker, data = main_health_data)\n",
              "\n",
              "Residuals:\n",
              "    Min      1Q  Median      3Q     Max \n",
              "-2.4473 -0.7436 -0.1336  0.8477  3.1539 \n",
              "\n",
              "Coefficients:\n",
              "                    Estimate Std. Error t value Pr(>|t|)    \n",
              "(Intercept)        -11.76723    3.54094  -3.323  0.00162 ** \n",
              "pct_high_chol        1.05714    0.08327  12.695  < 2e-16 ***\n",
              "pct_diabetes        -0.28059    0.23466  -1.196  0.23713    \n",
              "pct_obesity          0.01771    0.04242   0.417  0.67805    \n",
              "pct_current_smoker   0.49253    0.08225   5.988 1.89e-07 ***\n",
              "---\n",
              "Signif. codes:  0 ‘***’ 0.001 ‘**’ 0.01 ‘*’ 0.05 ‘.’ 0.1 ‘ ’ 1\n",
              "\n",
              "Residual standard error: 1.237 on 53 degrees of freedom\n",
              "Multiple R-squared:  0.8906,\tAdjusted R-squared:  0.8824 \n",
              "F-statistic: 107.9 on 4 and 53 DF,  p-value: < 2.2e-16\n"
            ]
          },
          "metadata": {}
        },
        {
          "output_type": "display_data",
          "data": {
            "text/plain": [
              "\n",
              "Call:\n",
              "lm(formula = pct_high_BP ~ pct_park_access + urban_rural_status, \n",
              "    data = main_health_data)\n",
              "\n",
              "Residuals:\n",
              "    Min      1Q  Median      3Q     Max \n",
              "-4.9222 -1.4000 -0.4813  1.5357  6.5172 \n",
              "\n",
              "Coefficients:\n",
              "                    Estimate Std. Error t value Pr(>|t|)    \n",
              "(Intercept)        22.403773   1.814289  12.349  < 2e-16 ***\n",
              "pct_park_access     0.009862   0.016940   0.582    0.563    \n",
              "urban_rural_status  2.760523   0.328309   8.408 1.89e-11 ***\n",
              "---\n",
              "Signif. codes:  0 ‘***’ 0.001 ‘**’ 0.01 ‘*’ 0.05 ‘.’ 0.1 ‘ ’ 1\n",
              "\n",
              "Residual standard error: 2.342 on 55 degrees of freedom\n",
              "Multiple R-squared:  0.5932,\tAdjusted R-squared:  0.5784 \n",
              "F-statistic: 40.11 on 2 and 55 DF,  p-value: 1.806e-11\n"
            ]
          },
          "metadata": {}
        },
        {
          "output_type": "display_data",
          "data": {
            "text/plain": [
              "\n",
              "Call:\n",
              "lm(formula = pct_high_BP ~ num_hospitals, data = main_health_data)\n",
              "\n",
              "Residuals:\n",
              "    Min      1Q  Median      3Q     Max \n",
              "-6.4878 -2.1592 -0.7513  2.3347  9.2073 \n",
              "\n",
              "Coefficients:\n",
              "              Estimate Std. Error t value Pr(>|t|)    \n",
              "(Intercept)   31.79756    0.51520  61.719   <2e-16 ***\n",
              "num_hospitals -0.10487    0.04378  -2.395     0.02 *  \n",
              "---\n",
              "Signif. codes:  0 ‘***’ 0.001 ‘**’ 0.01 ‘*’ 0.05 ‘.’ 0.1 ‘ ’ 1\n",
              "\n",
              "Residual standard error: 3.466 on 56 degrees of freedom\n",
              "Multiple R-squared:  0.09294,\tAdjusted R-squared:  0.07674 \n",
              "F-statistic: 5.738 on 1 and 56 DF,  p-value: 0.01997\n"
            ]
          },
          "metadata": {}
        },
        {
          "output_type": "display_data",
          "data": {
            "text/plain": [
              "\n",
              "Call:\n",
              "lm(formula = pct_high_BP ~ pct_park_access + urban_rural_status, \n",
              "    data = main_health_data)\n",
              "\n",
              "Residuals:\n",
              "    Min      1Q  Median      3Q     Max \n",
              "-4.9222 -1.4000 -0.4813  1.5357  6.5172 \n",
              "\n",
              "Coefficients:\n",
              "                    Estimate Std. Error t value Pr(>|t|)    \n",
              "(Intercept)        22.403773   1.814289  12.349  < 2e-16 ***\n",
              "pct_park_access     0.009862   0.016940   0.582    0.563    \n",
              "urban_rural_status  2.760523   0.328309   8.408 1.89e-11 ***\n",
              "---\n",
              "Signif. codes:  0 ‘***’ 0.001 ‘**’ 0.01 ‘*’ 0.05 ‘.’ 0.1 ‘ ’ 1\n",
              "\n",
              "Residual standard error: 2.342 on 55 degrees of freedom\n",
              "Multiple R-squared:  0.5932,\tAdjusted R-squared:  0.5784 \n",
              "F-statistic: 40.11 on 2 and 55 DF,  p-value: 1.806e-11\n"
            ]
          },
          "metadata": {}
        }
      ],
      "source": [
        "# High BP\n",
        "lasso_full_HBP <- lm(pct_high_BP ~ pct_high_chol + pct_obesity + pct_park_access + urban_rural_status, data = main_health_data)\n",
        "summary(lasso_full_HBP)\n",
        "\n",
        "lasso_risk_HBP <- lm(pct_high_BP ~ pct_high_chol\t+ pct_diabetes + pct_obesity + pct_current_smoker,\n",
        "                      data = main_health_data)\n",
        "summary(lasso_risk_HBP)\n",
        "\n",
        "lasso_income_HBP <- lm(pct_high_BP ~ pct_park_access + urban_rural_status,\n",
        "                      data = main_health_data)\n",
        "summary(lasso_income_HBP)\n",
        "\n",
        "lasso_health_HBP <- lm(pct_high_BP ~ num_hospitals,\n",
        "                    data = main_health_data)\n",
        "summary(lasso_health_HBP)\n",
        "\n",
        "lasso_income_health_HBP <- lm(pct_high_BP ~ pct_park_access + urban_rural_status,\n",
        "                    data = main_health_data)\n",
        "summary(lasso_income_health_HBP)"
      ]
    },
    {
      "cell_type": "code",
      "execution_count": null,
      "metadata": {
        "colab": {
          "base_uri": "https://localhost:8080/",
          "height": 1000
        },
        "id": "HWXY4_I_ozzg",
        "outputId": "7bfbf03f-0ca2-4116-f2c8-d618e6906959"
      },
      "outputs": [
        {
          "output_type": "display_data",
          "data": {
            "text/plain": [
              "\n",
              "Call:\n",
              "lm(formula = pct_stroke ~ pct_high_chol + pct_obesity + gini + \n",
              "    pct_park_access + urban_rural_status + pop_per_primary_dr, \n",
              "    data = main_health_data)\n",
              "\n",
              "Residuals:\n",
              "     Min       1Q   Median       3Q      Max \n",
              "-0.32854 -0.09195 -0.00931  0.08025  0.58831 \n",
              "\n",
              "Coefficients:\n",
              "                     Estimate Std. Error t value Pr(>|t|)    \n",
              "(Intercept)        -3.118e+00  7.019e-01  -4.442 5.09e-05 ***\n",
              "pct_high_chol       1.503e-01  1.510e-02   9.949 2.38e-13 ***\n",
              "pct_obesity         1.350e-02  5.259e-03   2.568 0.013340 *  \n",
              "gini               -1.080e-01  1.126e+00  -0.096 0.923925    \n",
              "pct_park_access    -9.069e-05  1.811e-03  -0.050 0.960258    \n",
              "urban_rural_status  1.676e-01  4.036e-02   4.153 0.000131 ***\n",
              "pop_per_primary_dr  9.388e-02  2.783e-02   3.374 0.001455 ** \n",
              "---\n",
              "Signif. codes:  0 ‘***’ 0.001 ‘**’ 0.01 ‘*’ 0.05 ‘.’ 0.1 ‘ ’ 1\n",
              "\n",
              "Residual standard error: 0.2027 on 49 degrees of freedom\n",
              "  (2 observations deleted due to missingness)\n",
              "Multiple R-squared:  0.8826,\tAdjusted R-squared:  0.8682 \n",
              "F-statistic: 61.37 on 6 and 49 DF,  p-value: < 2.2e-16\n"
            ]
          },
          "metadata": {}
        },
        {
          "output_type": "display_data",
          "data": {
            "text/plain": [
              "\n",
              "Call:\n",
              "lm(formula = pct_stroke ~ pct_high_chol + pct_diabetes + pct_obesity + \n",
              "    pct_phys_inactivity + pct_current_smoker, data = main_health_data)\n",
              "\n",
              "Residuals:\n",
              "     Min       1Q   Median       3Q      Max \n",
              "-0.35278 -0.11019 -0.00764  0.10041  0.49889 \n",
              "\n",
              "Coefficients:\n",
              "                     Estimate Std. Error t value Pr(>|t|)    \n",
              "(Intercept)         -2.870510   0.497236  -5.773 4.39e-07 ***\n",
              "pct_high_chol        0.140750   0.011604  12.129  < 2e-16 ***\n",
              "pct_diabetes        -0.045613   0.034882  -1.308    0.197    \n",
              "pct_obesity          0.002520   0.006737   0.374    0.710    \n",
              "pct_phys_inactivity -0.004584   0.015090  -0.304    0.763    \n",
              "pct_current_smoker   0.112199   0.011657   9.625 3.83e-13 ***\n",
              "---\n",
              "Signif. codes:  0 ‘***’ 0.001 ‘**’ 0.01 ‘*’ 0.05 ‘.’ 0.1 ‘ ’ 1\n",
              "\n",
              "Residual standard error: 0.1711 on 52 degrees of freedom\n",
              "Multiple R-squared:  0.9142,\tAdjusted R-squared:  0.906 \n",
              "F-statistic: 110.8 on 5 and 52 DF,  p-value: < 2.2e-16\n"
            ]
          },
          "metadata": {}
        },
        {
          "output_type": "display_data",
          "data": {
            "text/plain": [
              "\n",
              "Call:\n",
              "lm(formula = pct_stroke ~ income + gini + pct_poverty + pct_unemployment + \n",
              "    air_quality + pct_park_access + urban_rural_status, data = main_health_data)\n",
              "\n",
              "Residuals:\n",
              "     Min       1Q   Median       3Q      Max \n",
              "-0.50744 -0.11850  0.00518  0.11410  0.59347 \n",
              "\n",
              "Coefficients:\n",
              "                    Estimate Std. Error t value Pr(>|t|)    \n",
              "(Intercept)        25.047134   3.497173   7.162 3.35e-09 ***\n",
              "income             -1.996841   0.294106  -6.790 1.28e-08 ***\n",
              "gini                3.130693   1.357084   2.307 0.025239 *  \n",
              "pct_poverty        -0.063223   0.017510  -3.611 0.000707 ***\n",
              "pct_unemployment   -0.010647   0.022146  -0.481 0.632763    \n",
              "air_quality        -0.012299   0.018457  -0.666 0.508248    \n",
              "pct_park_access    -0.001031   0.002147  -0.480 0.633256    \n",
              "urban_rural_status  0.123949   0.062726   1.976 0.053684 .  \n",
              "---\n",
              "Signif. codes:  0 ‘***’ 0.001 ‘**’ 0.01 ‘*’ 0.05 ‘.’ 0.1 ‘ ’ 1\n",
              "\n",
              "Residual standard error: 0.2631 on 50 degrees of freedom\n",
              "Multiple R-squared:  0.8049,\tAdjusted R-squared:  0.7776 \n",
              "F-statistic: 29.48 on 7 and 50 DF,  p-value: 1.189e-15\n"
            ]
          },
          "metadata": {}
        },
        {
          "output_type": "display_data",
          "data": {
            "text/plain": [
              "\n",
              "Call:\n",
              "lm(formula = pct_stroke ~ pop_per_primary_dr + pop_per_cvd_dr, \n",
              "    data = main_health_data)\n",
              "\n",
              "Residuals:\n",
              "     Min       1Q   Median       3Q      Max \n",
              "-0.86875 -0.23903  0.00292  0.14217  1.08074 \n",
              "\n",
              "Coefficients:\n",
              "                   Estimate Std. Error t value Pr(>|t|)    \n",
              "(Intercept)        2.751747   0.133291  20.645   <2e-16 ***\n",
              "pop_per_primary_dr 0.108469   0.067453   1.608    0.115    \n",
              "pop_per_cvd_dr     0.006232   0.003836   1.625    0.112    \n",
              "---\n",
              "Signif. codes:  0 ‘***’ 0.001 ‘**’ 0.01 ‘*’ 0.05 ‘.’ 0.1 ‘ ’ 1\n",
              "\n",
              "Residual standard error: 0.3869 on 43 degrees of freedom\n",
              "  (12 observations deleted due to missingness)\n",
              "Multiple R-squared:  0.1816,\tAdjusted R-squared:  0.1436 \n",
              "F-statistic: 4.772 on 2 and 43 DF,  p-value: 0.01344\n"
            ]
          },
          "metadata": {}
        },
        {
          "output_type": "display_data",
          "data": {
            "text/plain": [
              "\n",
              "Call:\n",
              "lm(formula = pct_stroke ~ income + gini + pct_park_access + urban_rural_status + \n",
              "    num_hospitals + pop_per_primary_dr, data = main_health_data)\n",
              "\n",
              "Residuals:\n",
              "     Min       1Q   Median       3Q      Max \n",
              "-0.54914 -0.18377  0.00605  0.15307  0.78937 \n",
              "\n",
              "Coefficients:\n",
              "                    Estimate Std. Error t value Pr(>|t|)    \n",
              "(Intercept)        11.362343   3.035818   3.743 0.000478 ***\n",
              "income             -0.911646   0.247001  -3.691 0.000561 ***\n",
              "gini                2.815301   1.622010   1.736 0.088905 .  \n",
              "pct_park_access     0.000969   0.002586   0.375 0.709501    \n",
              "urban_rural_status  0.254207   0.070393   3.611 0.000716 ***\n",
              "num_hospitals       0.001731   0.004890   0.354 0.724821    \n",
              "pop_per_primary_dr  0.046809   0.043766   1.070 0.290074    \n",
              "---\n",
              "Signif. codes:  0 ‘***’ 0.001 ‘**’ 0.01 ‘*’ 0.05 ‘.’ 0.1 ‘ ’ 1\n",
              "\n",
              "Residual standard error: 0.3055 on 49 degrees of freedom\n",
              "  (2 observations deleted due to missingness)\n",
              "Multiple R-squared:  0.7333,\tAdjusted R-squared:  0.7006 \n",
              "F-statistic: 22.45 on 6 and 49 DF,  p-value: 1.619e-12\n"
            ]
          },
          "metadata": {}
        }
      ],
      "source": [
        "# Stroke\n",
        "lasso_full_stroke <- lm(pct_stroke ~ pct_high_chol + pct_obesity + gini\n",
        "                         + pct_park_access + urban_rural_status + pop_per_primary_dr,\n",
        "                         data = main_health_data)\n",
        "summary(lasso_full_stroke)\n",
        "\n",
        "lasso_risk_stroke <- lm(pct_stroke ~ pct_high_chol\t+ pct_diabetes + pct_obesity + pct_phys_inactivity + pct_current_smoker,\n",
        "                      data = main_health_data)\n",
        "summary(lasso_risk_stroke)\n",
        "\n",
        "lasso_income_stroke <- lm(pct_stroke ~ income + gini + pct_poverty + pct_unemployment + air_quality + pct_park_access + urban_rural_status,\n",
        "                      data = main_health_data)\n",
        "summary(lasso_income_stroke)\n",
        "\n",
        "lasso_health_stroke <- lm(pct_stroke ~ pop_per_primary_dr + pop_per_cvd_dr,\n",
        "                    data = main_health_data)\n",
        "summary(lasso_health_stroke)\n",
        "\n",
        "lasso_income_health_stroke <- lm(pct_stroke ~ income + gini + pct_park_access + urban_rural_status + num_hospitals + pop_per_primary_dr,\n",
        "                    data = main_health_data)\n",
        "summary(lasso_income_health_stroke)"
      ]
    },
    {
      "cell_type": "markdown",
      "metadata": {
        "id": "YHlzFcP1CHkO"
      },
      "source": [
        "# Cross-Validation"
      ]
    },
    {
      "cell_type": "markdown",
      "metadata": {
        "id": "vKEeIyOICMb0"
      },
      "source": [
        "## LOOCV"
      ]
    },
    {
      "cell_type": "code",
      "execution_count": null,
      "metadata": {
        "id": "IfBUR6-lCO8e"
      },
      "outputs": [],
      "source": [
        "# LOOCV\n",
        "train_control <- trainControl(method = \"LOOCV\")"
      ]
    },
    {
      "cell_type": "markdown",
      "source": [
        "### CHD"
      ],
      "metadata": {
        "id": "zgz63FWs-r_O"
      }
    },
    {
      "cell_type": "code",
      "execution_count": null,
      "metadata": {
        "colab": {
          "base_uri": "https://localhost:8080/"
        },
        "id": "sxPhzCx9y3Jv",
        "outputId": "1b19e0d2-0a79-480d-df1c-bbb0f531e539"
      },
      "outputs": [
        {
          "output_type": "stream",
          "name": "stdout",
          "text": [
            "Linear Regression \n",
            "\n",
            "33 samples\n",
            "18 predictors\n",
            "\n",
            "No pre-processing\n",
            "Resampling: Leave-One-Out Cross-Validation \n",
            "Summary of sample sizes: 32, 32, 32, 32, 32, 32, ... \n",
            "Resampling results:\n",
            "\n",
            "  RMSE      Rsquared   MAE      \n",
            "  0.630823  0.4945345  0.3736128\n",
            "\n",
            "Tuning parameter 'intercept' was held constant at a value of TRUE\n",
            "Linear Regression \n",
            "\n",
            "33 samples\n",
            " 4 predictor\n",
            "\n",
            "No pre-processing\n",
            "Resampling: Leave-One-Out Cross-Validation \n",
            "Summary of sample sizes: 32, 32, 32, 32, 32, 32, ... \n",
            "Resampling results:\n",
            "\n",
            "  RMSE       Rsquared  MAE      \n",
            "  0.3832012  0.679394  0.3015895\n",
            "\n",
            "Tuning parameter 'intercept' was held constant at a value of TRUE\n",
            "Linear Regression \n",
            "\n",
            "33 samples\n",
            " 3 predictor\n",
            "\n",
            "No pre-processing\n",
            "Resampling: Leave-One-Out Cross-Validation \n",
            "Summary of sample sizes: 32, 32, 32, 32, 32, 32, ... \n",
            "Resampling results:\n",
            "\n",
            "  RMSE       Rsquared   MAE      \n",
            "  0.3509627  0.7269078  0.2919337\n",
            "\n",
            "Tuning parameter 'intercept' was held constant at a value of TRUE\n"
          ]
        }
      ],
      "source": [
        "### CHD\n",
        "full_model <- train(pct_CHD ~ ., data = na.omit(y_CHD_data),\n",
        "               method = \"lm\", trControl = train_control)\n",
        "print(full_model)\n",
        "\n",
        "# lasso reg model from full model\n",
        "lasso_reg_model <- train(pct_CHD ~ pct_high_chol + pct_park_access + urban_rural_status + pop_per_neuro_surg_dr, data = na.omit(y_CHD_data),\n",
        "                   method = \"lm\", trControl = train_control)\n",
        "print(lasso_reg_model)\n",
        "\n",
        "# basic reduced linear model w only Risk Factors (RF)\n",
        "red_reg_model_RF <- train(pct_CHD ~ pct_high_chol + pct_diabetes + pct_current_smoker, data = na.omit(y_CHD_data),\n",
        "                         method = \"lm\", trControl = train_control)\n",
        "print(red_reg_model_RF)"
      ]
    },
    {
      "cell_type": "code",
      "source": [
        "# Lasso models for each category of each X separately\n",
        "lasso_risk_CHD <- train(pct_CHD ~ pct_high_chol\t+ pct_diabetes + pct_obesity + pct_phys_inactivity + pct_current_smoker, data = na.omit(y_CHD_data),\n",
        "                   method = \"lm\", trControl = train_control)\n",
        "print(lasso_risk_CHD)\n",
        "\n",
        "lasso_income_CHD <- train(pct_CHD ~ income + pct_park_access + urban_rural_status, data = na.omit(y_CHD_data),\n",
        "                      method = \"lm\", trControl = train_control)\n",
        "print(lasso_income_CHD)\n",
        "\n",
        "lasso_health_CHD <- train(pct_CHD ~ num_hospitals\t+ pop_per_cvd_dr + pop_per_neuro_dr, data = na.omit(y_CHD_data),\n",
        "                   method = \"lm\", trControl = train_control)\n",
        "print(lasso_health_CHD)"
      ],
      "metadata": {
        "id": "6SdVZoXV-nCP",
        "colab": {
          "base_uri": "https://localhost:8080/"
        },
        "outputId": "7e12b248-3a80-4623-c3b1-787bdc0dc29b"
      },
      "execution_count": null,
      "outputs": [
        {
          "output_type": "stream",
          "name": "stdout",
          "text": [
            "Linear Regression \n",
            "\n",
            "33 samples\n",
            " 5 predictor\n",
            "\n",
            "No pre-processing\n",
            "Resampling: Leave-One-Out Cross-Validation \n",
            "Summary of sample sizes: 32, 32, 32, 32, 32, 32, ... \n",
            "Resampling results:\n",
            "\n",
            "  RMSE       Rsquared  MAE      \n",
            "  0.3619828  0.711941  0.3071907\n",
            "\n",
            "Tuning parameter 'intercept' was held constant at a value of TRUE\n",
            "Linear Regression \n",
            "\n",
            "33 samples\n",
            " 3 predictor\n",
            "\n",
            "No pre-processing\n",
            "Resampling: Leave-One-Out Cross-Validation \n",
            "Summary of sample sizes: 32, 32, 32, 32, 32, 32, ... \n",
            "Resampling results:\n",
            "\n",
            "  RMSE       Rsquared   MAE      \n",
            "  0.3906166  0.6609893  0.2916049\n",
            "\n",
            "Tuning parameter 'intercept' was held constant at a value of TRUE\n",
            "Linear Regression \n",
            "\n",
            "33 samples\n",
            " 3 predictor\n",
            "\n",
            "No pre-processing\n",
            "Resampling: Leave-One-Out Cross-Validation \n",
            "Summary of sample sizes: 32, 32, 32, 32, 32, 32, ... \n",
            "Resampling results:\n",
            "\n",
            "  RMSE       Rsquared   MAE      \n",
            "  0.7603776  0.2051955  0.5295853\n",
            "\n",
            "Tuning parameter 'intercept' was held constant at a value of TRUE\n"
          ]
        }
      ]
    },
    {
      "cell_type": "code",
      "source": [
        "# Lasso model w/ Social, Economic, Environmental Data & Health Data together\n",
        "lasso_income_health_CHD <- train(pct_CHD ~ gini + pct_poverty + pct_park_access + urban_rural_status + pop_per_primary_dr + pop_per_neuro_dr + pop_per_neuro_surg_dr, data = na.omit(y_CHD_data),\n",
        "                                method = \"lm\", trControl = train_control)\n",
        "print(lasso_income_health_CHD)"
      ],
      "metadata": {
        "id": "8H3ZnILv-yCe",
        "colab": {
          "base_uri": "https://localhost:8080/"
        },
        "outputId": "8b464bb9-10b7-4a0f-a5b3-9993ec387e58"
      },
      "execution_count": null,
      "outputs": [
        {
          "output_type": "stream",
          "name": "stdout",
          "text": [
            "Linear Regression \n",
            "\n",
            "33 samples\n",
            " 7 predictor\n",
            "\n",
            "No pre-processing\n",
            "Resampling: Leave-One-Out Cross-Validation \n",
            "Summary of sample sizes: 32, 32, 32, 32, 32, 32, ... \n",
            "Resampling results:\n",
            "\n",
            "  RMSE       Rsquared   MAE     \n",
            "  0.5693154  0.4277067  0.385594\n",
            "\n",
            "Tuning parameter 'intercept' was held constant at a value of TRUE\n"
          ]
        }
      ]
    },
    {
      "cell_type": "markdown",
      "source": [
        "### HIGH BP"
      ],
      "metadata": {
        "id": "kACuaLZe_AtN"
      }
    },
    {
      "cell_type": "code",
      "execution_count": null,
      "metadata": {
        "colab": {
          "base_uri": "https://localhost:8080/"
        },
        "id": "4awI1OYSy7Nq",
        "outputId": "8bf32c67-6126-4dca-b943-b35e5b9ab8e2"
      },
      "outputs": [
        {
          "output_type": "stream",
          "name": "stdout",
          "text": [
            "Linear Regression \n",
            "\n",
            "33 samples\n",
            "18 predictors\n",
            "\n",
            "No pre-processing\n",
            "Resampling: Leave-One-Out Cross-Validation \n",
            "Summary of sample sizes: 32, 32, 32, 32, 32, 32, ... \n",
            "Resampling results:\n",
            "\n",
            "  RMSE      Rsquared   MAE     \n",
            "  1.910214  0.4274262  1.423651\n",
            "\n",
            "Tuning parameter 'intercept' was held constant at a value of TRUE\n",
            "Linear Regression \n",
            "\n",
            "33 samples\n",
            " 4 predictor\n",
            "\n",
            "No pre-processing\n",
            "Resampling: Leave-One-Out Cross-Validation \n",
            "Summary of sample sizes: 32, 32, 32, 32, 32, 32, ... \n",
            "Resampling results:\n",
            "\n",
            "  RMSE      Rsquared   MAE      \n",
            "  1.266815  0.5734436  0.9991765\n",
            "\n",
            "Tuning parameter 'intercept' was held constant at a value of TRUE\n",
            "Linear Regression \n",
            "\n",
            "33 samples\n",
            " 2 predictor\n",
            "\n",
            "No pre-processing\n",
            "Resampling: Leave-One-Out Cross-Validation \n",
            "Summary of sample sizes: 32, 32, 32, 32, 32, 32, ... \n",
            "Resampling results:\n",
            "\n",
            "  RMSE      Rsquared   MAE     \n",
            "  1.336636  0.5180926  1.152898\n",
            "\n",
            "Tuning parameter 'intercept' was held constant at a value of TRUE\n"
          ]
        }
      ],
      "source": [
        "### HIGH BP\n",
        "full_model <- train(pct_high_BP ~ ., data = na.omit(y_HBP_data),\n",
        "                    method = \"lm\", trControl = train_control)\n",
        "print(full_model)\n",
        "\n",
        "# lasso reg model from full model\n",
        "lasso_reg_model <- train(pct_high_BP ~ pct_high_chol + pct_obesity + pct_park_access + urban_rural_status, data = na.omit(y_HBP_data),\n",
        "                         method = \"lm\", trControl = train_control)\n",
        "print(lasso_reg_model)\n",
        "\n",
        "# basic reduced linear model w only Risk Factors (RF)\n",
        "red_reg_model_RF <- train(pct_high_BP ~ pct_high_chol + pct_current_smoker, data = na.omit(y_HBP_data),\n",
        "                         method = \"lm\", trControl = train_control)\n",
        "print(red_reg_model_RF)"
      ]
    },
    {
      "cell_type": "code",
      "source": [
        "# Lasso models for each category of each X separately\n",
        "lasso_risk_HBP <- train(pct_high_BP ~ pct_high_chol\t+ pct_diabetes + pct_obesity + pct_current_smoker, data = na.omit(y_HBP_data),\n",
        "                      method = \"lm\", trControl = train_control)\n",
        "print(lasso_risk_HBP)\n",
        "\n",
        "lasso_income_HBP <- train(pct_high_BP ~ pct_park_access + urban_rural_status, data = na.omit(y_HBP_data),\n",
        "                        method = \"lm\", trControl = train_control)\n",
        "print(lasso_income_HBP)\n",
        "\n",
        "lasso_health_HBP <- train(pct_high_BP ~ num_hospitals, data = na.omit(y_HBP_data),\n",
        "                         method = \"lm\", trControl = train_control)\n",
        "print(lasso_health_HBP)"
      ],
      "metadata": {
        "id": "Xn_Dwit6_LDK",
        "colab": {
          "base_uri": "https://localhost:8080/"
        },
        "outputId": "8ed306af-4a2f-4fec-fa59-224fb94abd33"
      },
      "execution_count": null,
      "outputs": [
        {
          "output_type": "stream",
          "name": "stdout",
          "text": [
            "Linear Regression \n",
            "\n",
            "33 samples\n",
            " 4 predictor\n",
            "\n",
            "No pre-processing\n",
            "Resampling: Leave-One-Out Cross-Validation \n",
            "Summary of sample sizes: 32, 32, 32, 32, 32, 32, ... \n",
            "Resampling results:\n",
            "\n",
            "  RMSE      Rsquared   MAE     \n",
            "  1.283993  0.5576958  1.053847\n",
            "\n",
            "Tuning parameter 'intercept' was held constant at a value of TRUE\n",
            "Linear Regression \n",
            "\n",
            "33 samples\n",
            " 2 predictor\n",
            "\n",
            "No pre-processing\n",
            "Resampling: Leave-One-Out Cross-Validation \n",
            "Summary of sample sizes: 32, 32, 32, 32, 32, 32, ... \n",
            "Resampling results:\n",
            "\n",
            "  RMSE      Rsquared   MAE     \n",
            "  1.378473  0.4883091  1.034144\n",
            "\n",
            "Tuning parameter 'intercept' was held constant at a value of TRUE\n",
            "Linear Regression \n",
            "\n",
            "33 samples\n",
            " 1 predictor\n",
            "\n",
            "No pre-processing\n",
            "Resampling: Leave-One-Out Cross-Validation \n",
            "Summary of sample sizes: 32, 32, 32, 32, 32, 32, ... \n",
            "Resampling results:\n",
            "\n",
            "  RMSE     Rsquared     MAE     \n",
            "  2.41598  0.001492191  1.795953\n",
            "\n",
            "Tuning parameter 'intercept' was held constant at a value of TRUE\n"
          ]
        }
      ]
    },
    {
      "cell_type": "code",
      "source": [
        "# Lasso model w/ Social, Economic, Environmental Data & Health Data together\n",
        "lasso_income_health_HBP <- train(pct_high_BP ~ pct_park_access + urban_rural_status, data = na.omit(y_HBP_data),\n",
        "                                method = \"lm\", trControl = train_control)\n",
        "print(lasso_income_health_HBP)"
      ],
      "metadata": {
        "id": "5rCtQUHm_309",
        "colab": {
          "base_uri": "https://localhost:8080/"
        },
        "outputId": "23bb5a93-e309-4336-a891-e628090fd351"
      },
      "execution_count": null,
      "outputs": [
        {
          "output_type": "stream",
          "name": "stdout",
          "text": [
            "Linear Regression \n",
            "\n",
            "33 samples\n",
            " 2 predictor\n",
            "\n",
            "No pre-processing\n",
            "Resampling: Leave-One-Out Cross-Validation \n",
            "Summary of sample sizes: 32, 32, 32, 32, 32, 32, ... \n",
            "Resampling results:\n",
            "\n",
            "  RMSE      Rsquared   MAE     \n",
            "  1.378473  0.4883091  1.034144\n",
            "\n",
            "Tuning parameter 'intercept' was held constant at a value of TRUE\n"
          ]
        }
      ]
    },
    {
      "cell_type": "markdown",
      "source": [
        "### STROKE"
      ],
      "metadata": {
        "id": "RxUibauJAxYl"
      }
    },
    {
      "cell_type": "code",
      "execution_count": null,
      "metadata": {
        "colab": {
          "base_uri": "https://localhost:8080/"
        },
        "id": "WCuhjL9ty-uP",
        "outputId": "1e7bf04d-0b92-4bda-f53c-b68bb5fcc470"
      },
      "outputs": [
        {
          "output_type": "stream",
          "name": "stdout",
          "text": [
            "Linear Regression \n",
            "\n",
            "33 samples\n",
            "18 predictors\n",
            "\n",
            "No pre-processing\n",
            "Resampling: Leave-One-Out Cross-Validation \n",
            "Summary of sample sizes: 32, 32, 32, 32, 32, 32, ... \n",
            "Resampling results:\n",
            "\n",
            "  RMSE       Rsquared   MAE     \n",
            "  0.2267276  0.6333505  0.175206\n",
            "\n",
            "Tuning parameter 'intercept' was held constant at a value of TRUE\n",
            "Linear Regression \n",
            "\n",
            "33 samples\n",
            " 6 predictor\n",
            "\n",
            "No pre-processing\n",
            "Resampling: Leave-One-Out Cross-Validation \n",
            "Summary of sample sizes: 32, 32, 32, 32, 32, 32, ... \n",
            "Resampling results:\n",
            "\n",
            "  RMSE      Rsquared   MAE      \n",
            "  0.172145  0.7082429  0.1233993\n",
            "\n",
            "Tuning parameter 'intercept' was held constant at a value of TRUE\n",
            "Linear Regression \n",
            "\n",
            "33 samples\n",
            " 2 predictor\n",
            "\n",
            "No pre-processing\n",
            "Resampling: Leave-One-Out Cross-Validation \n",
            "Summary of sample sizes: 32, 32, 32, 32, 32, 32, ... \n",
            "Resampling results:\n",
            "\n",
            "  RMSE       Rsquared   MAE      \n",
            "  0.1646152  0.7311637  0.1370905\n",
            "\n",
            "Tuning parameter 'intercept' was held constant at a value of TRUE\n"
          ]
        }
      ],
      "source": [
        "### STROKE\n",
        "full_model <- train(pct_stroke ~ ., data = na.omit(y_stroke_data),\n",
        "                    method = \"lm\", trControl = train_control)\n",
        "print(full_model)\n",
        "\n",
        "# lasso reg model from full model\n",
        "lasso_reg_model <- train(pct_stroke ~ pct_high_chol + pct_obesity + gini\n",
        "                         + pct_park_access + urban_rural_status + pop_per_primary_dr,\n",
        "                         data = na.omit(y_stroke_data),\n",
        "                         method = \"lm\", trControl = train_control)\n",
        "print(lasso_reg_model)\n",
        "\n",
        "# basic reduced linear model w only Risk Factors (RF)\n",
        "red_reg_model_RF <- train(pct_stroke ~ pct_high_chol + pct_current_smoker, data = na.omit(y_stroke_data),\n",
        "                         method = \"lm\", trControl = train_control)\n",
        "print(red_reg_model_RF)"
      ]
    },
    {
      "cell_type": "code",
      "source": [
        "# Lasso models for each category of each X separately\n",
        "lasso_risk_stroke <- train(pct_stroke ~ pct_high_chol\t+ pct_diabetes + pct_obesity + pct_phys_inactivity + pct_current_smoker,\n",
        "                        data = na.omit(y_stroke_data), method = \"lm\", trControl = train_control)\n",
        "print(lasso_risk_stroke)\n",
        "\n",
        "lasso_income_stroke <- train(pct_stroke ~ income + gini + pct_poverty + pct_unemployment + air_quality + pct_park_access + urban_rural_status,\n",
        "                      data = na.omit(y_stroke_data), method = \"lm\", trControl = train_control)\n",
        "print(lasso_income_stroke)\n",
        "\n",
        "lasso_health_stroke <- train(pct_stroke ~ pop_per_primary_dr + pop_per_cvd_dr,\n",
        "                    data = na.omit(y_stroke_data), method = \"lm\", trControl = train_control)\n",
        "print(lasso_health_stroke)"
      ],
      "metadata": {
        "id": "ZP-Q2b22BQYB",
        "colab": {
          "base_uri": "https://localhost:8080/"
        },
        "outputId": "3130e206-c396-4db7-d688-bbf24c256b41"
      },
      "execution_count": null,
      "outputs": [
        {
          "output_type": "stream",
          "name": "stdout",
          "text": [
            "Linear Regression \n",
            "\n",
            "33 samples\n",
            " 5 predictor\n",
            "\n",
            "No pre-processing\n",
            "Resampling: Leave-One-Out Cross-Validation \n",
            "Summary of sample sizes: 32, 32, 32, 32, 32, 32, ... \n",
            "Resampling results:\n",
            "\n",
            "  RMSE       Rsquared   MAE      \n",
            "  0.1496668  0.7788715  0.1296471\n",
            "\n",
            "Tuning parameter 'intercept' was held constant at a value of TRUE\n",
            "Linear Regression \n",
            "\n",
            "33 samples\n",
            " 7 predictor\n",
            "\n",
            "No pre-processing\n",
            "Resampling: Leave-One-Out Cross-Validation \n",
            "Summary of sample sizes: 32, 32, 32, 32, 32, 32, ... \n",
            "Resampling results:\n",
            "\n",
            "  RMSE       Rsquared   MAE      \n",
            "  0.2232556  0.5510651  0.1344174\n",
            "\n",
            "Tuning parameter 'intercept' was held constant at a value of TRUE\n",
            "Linear Regression \n",
            "\n",
            "33 samples\n",
            " 2 predictor\n",
            "\n",
            "No pre-processing\n",
            "Resampling: Leave-One-Out Cross-Validation \n",
            "Summary of sample sizes: 32, 32, 32, 32, 32, 32, ... \n",
            "Resampling results:\n",
            "\n",
            "  RMSE       Rsquared   MAE      \n",
            "  0.2608672  0.3653496  0.2046406\n",
            "\n",
            "Tuning parameter 'intercept' was held constant at a value of TRUE\n"
          ]
        }
      ]
    },
    {
      "cell_type": "code",
      "source": [
        "# Lasso model w/ Social, Economic, Environmental Data & Health Data together\n",
        "lasso_income_health_stroke <- train(pct_stroke ~ income + gini + pct_park_access + urban_rural_status + num_hospitals + pop_per_primary_dr,\n",
        "                                  data = na.omit(y_stroke_data), method = \"lm\", trControl = train_control)\n",
        "print(lasso_income_health_stroke)"
      ],
      "metadata": {
        "id": "UILM_cADBrG4",
        "colab": {
          "base_uri": "https://localhost:8080/"
        },
        "outputId": "8876ec99-4042-4f92-e2a6-8e8afb31ab44"
      },
      "execution_count": null,
      "outputs": [
        {
          "output_type": "stream",
          "name": "stdout",
          "text": [
            "Linear Regression \n",
            "\n",
            "33 samples\n",
            " 6 predictor\n",
            "\n",
            "No pre-processing\n",
            "Resampling: Leave-One-Out Cross-Validation \n",
            "Summary of sample sizes: 32, 32, 32, 32, 32, 32, ... \n",
            "Resampling results:\n",
            "\n",
            "  RMSE       Rsquared  MAE      \n",
            "  0.2017417  0.625892  0.1402214\n",
            "\n",
            "Tuning parameter 'intercept' was held constant at a value of TRUE\n"
          ]
        }
      ]
    },
    {
      "cell_type": "markdown",
      "metadata": {
        "id": "JPXd3_9NCQYj"
      },
      "source": [
        "## 5-fold CV"
      ]
    },
    {
      "cell_type": "code",
      "execution_count": null,
      "metadata": {
        "id": "VA4ThXoRCSh2"
      },
      "outputs": [],
      "source": [
        "# 5-fold CV\n",
        "set.seed(456)\n",
        "train_control <- trainControl(method = \"cv\", number = 5)"
      ]
    },
    {
      "cell_type": "markdown",
      "source": [
        "### CHD"
      ],
      "metadata": {
        "id": "gPMcdSbjHpFl"
      }
    },
    {
      "cell_type": "code",
      "execution_count": null,
      "metadata": {
        "colab": {
          "base_uri": "https://localhost:8080/"
        },
        "outputId": "bedbd30f-cd76-4a7b-b19a-aaf7580f79c9",
        "id": "eap-14jhHpFl"
      },
      "outputs": [
        {
          "output_type": "stream",
          "name": "stdout",
          "text": [
            "Linear Regression \n",
            "\n",
            "33 samples\n",
            "18 predictors\n",
            "\n",
            "No pre-processing\n",
            "Resampling: Cross-Validated (5 fold) \n",
            "Summary of sample sizes: 26, 27, 26, 27, 26 \n",
            "Resampling results:\n",
            "\n",
            "  RMSE       Rsquared   MAE      \n",
            "  0.7922896  0.6138292  0.5698742\n",
            "\n",
            "Tuning parameter 'intercept' was held constant at a value of TRUE\n",
            "Linear Regression \n",
            "\n",
            "33 samples\n",
            " 4 predictor\n",
            "\n",
            "No pre-processing\n",
            "Resampling: Cross-Validated (5 fold) \n",
            "Summary of sample sizes: 26, 26, 26, 27, 27 \n",
            "Resampling results:\n",
            "\n",
            "  RMSE       Rsquared   MAE      \n",
            "  0.4035217  0.7797356  0.3353249\n",
            "\n",
            "Tuning parameter 'intercept' was held constant at a value of TRUE\n",
            "Linear Regression \n",
            "\n",
            "33 samples\n",
            " 3 predictor\n",
            "\n",
            "No pre-processing\n",
            "Resampling: Cross-Validated (5 fold) \n",
            "Summary of sample sizes: 26, 27, 27, 25, 27 \n",
            "Resampling results:\n",
            "\n",
            "  RMSE       Rsquared   MAE      \n",
            "  0.3653666  0.7772995  0.3050804\n",
            "\n",
            "Tuning parameter 'intercept' was held constant at a value of TRUE\n"
          ]
        }
      ],
      "source": [
        "### CHD\n",
        "full_model <- train(pct_CHD ~ ., data = na.omit(y_CHD_data),\n",
        "               method = \"lm\", trControl = train_control)\n",
        "print(full_model)\n",
        "\n",
        "# lasso reg model from full model\n",
        "lasso_reg_model <- train(pct_CHD ~ pct_high_chol + pct_park_access + urban_rural_status + pop_per_neuro_surg_dr, data = na.omit(y_CHD_data),\n",
        "                   method = \"lm\", trControl = train_control)\n",
        "print(lasso_reg_model)\n",
        "\n",
        "# basic reduced linear model w only Risk Factors (RF)\n",
        "red_reg_model_RF <- train(pct_CHD ~ pct_high_chol + pct_diabetes + pct_current_smoker, data = na.omit(y_CHD_data),\n",
        "                         method = \"lm\", trControl = train_control)\n",
        "print(red_reg_model_RF)"
      ]
    },
    {
      "cell_type": "code",
      "source": [
        "# Lasso models for each category of each X separately\n",
        "lasso_risk_CHD <- train(pct_CHD ~ pct_high_chol\t+ pct_diabetes + pct_obesity + pct_phys_inactivity + pct_current_smoker, data = na.omit(y_CHD_data),\n",
        "                   method = \"lm\", trControl = train_control)\n",
        "print(lasso_risk_CHD)\n",
        "\n",
        "lasso_income_CHD <- train(pct_CHD ~ income + pct_park_access + urban_rural_status, data = na.omit(y_CHD_data),\n",
        "                      method = \"lm\", trControl = train_control)\n",
        "print(lasso_income_CHD)\n",
        "\n",
        "lasso_health_CHD <- train(pct_CHD ~ num_hospitals\t+ pop_per_cvd_dr + pop_per_neuro_dr, data = na.omit(y_CHD_data),\n",
        "                   method = \"lm\", trControl = train_control)\n",
        "print(lasso_health_CHD)"
      ],
      "metadata": {
        "colab": {
          "base_uri": "https://localhost:8080/"
        },
        "id": "LbH-LnEFHpFm",
        "outputId": "285f0efa-aac4-4d51-feec-fbd07c9bffd7"
      },
      "execution_count": null,
      "outputs": [
        {
          "output_type": "stream",
          "name": "stdout",
          "text": [
            "Linear Regression \n",
            "\n",
            "33 samples\n",
            " 5 predictor\n",
            "\n",
            "No pre-processing\n",
            "Resampling: Cross-Validated (5 fold) \n",
            "Summary of sample sizes: 26, 27, 27, 26, 26 \n",
            "Resampling results:\n",
            "\n",
            "  RMSE       Rsquared   MAE      \n",
            "  0.3506838  0.7915087  0.2973989\n",
            "\n",
            "Tuning parameter 'intercept' was held constant at a value of TRUE\n",
            "Linear Regression \n",
            "\n",
            "33 samples\n",
            " 3 predictor\n",
            "\n",
            "No pre-processing\n",
            "Resampling: Cross-Validated (5 fold) \n",
            "Summary of sample sizes: 26, 25, 27, 27, 27 \n",
            "Resampling results:\n",
            "\n",
            "  RMSE       Rsquared   MAE      \n",
            "  0.3789558  0.7808709  0.3074428\n",
            "\n",
            "Tuning parameter 'intercept' was held constant at a value of TRUE\n",
            "Linear Regression \n",
            "\n",
            "33 samples\n",
            " 3 predictor\n",
            "\n",
            "No pre-processing\n",
            "Resampling: Cross-Validated (5 fold) \n",
            "Summary of sample sizes: 26, 26, 27, 26, 27 \n",
            "Resampling results:\n",
            "\n",
            "  RMSE       Rsquared  MAE      \n",
            "  0.6849577  0.518087  0.5276472\n",
            "\n",
            "Tuning parameter 'intercept' was held constant at a value of TRUE\n"
          ]
        }
      ]
    },
    {
      "cell_type": "code",
      "source": [
        "# Lasso model w/ Social, Economic, Environmental Data & Health Data together\n",
        "lasso_income_health_CHD <- train(pct_CHD ~ gini + pct_poverty + pct_park_access + urban_rural_status + pop_per_primary_dr + pop_per_neuro_dr + pop_per_neuro_surg_dr, data = na.omit(y_CHD_data),\n",
        "                                method = \"lm\", trControl = train_control)\n",
        "print(lasso_income_health_CHD)"
      ],
      "metadata": {
        "colab": {
          "base_uri": "https://localhost:8080/"
        },
        "id": "edljbNtgHpFm",
        "outputId": "1940c3d0-3c8d-422a-d5d2-669c2c7c6980"
      },
      "execution_count": null,
      "outputs": [
        {
          "output_type": "stream",
          "name": "stdout",
          "text": [
            "Linear Regression \n",
            "\n",
            "33 samples\n",
            " 7 predictor\n",
            "\n",
            "No pre-processing\n",
            "Resampling: Cross-Validated (5 fold) \n",
            "Summary of sample sizes: 27, 25, 27, 27, 26 \n",
            "Resampling results:\n",
            "\n",
            "  RMSE      Rsquared   MAE      \n",
            "  0.555778  0.6665903  0.4280998\n",
            "\n",
            "Tuning parameter 'intercept' was held constant at a value of TRUE\n"
          ]
        }
      ]
    },
    {
      "cell_type": "markdown",
      "source": [
        "### HIGH BP"
      ],
      "metadata": {
        "id": "Gc6R87iQHpFn"
      }
    },
    {
      "cell_type": "code",
      "execution_count": null,
      "metadata": {
        "colab": {
          "base_uri": "https://localhost:8080/"
        },
        "outputId": "f88af7e5-3b9c-4f35-b1ed-e377d5d459aa",
        "id": "PmtYn84EHpFo"
      },
      "outputs": [
        {
          "output_type": "stream",
          "name": "stdout",
          "text": [
            "Linear Regression \n",
            "\n",
            "33 samples\n",
            "18 predictors\n",
            "\n",
            "No pre-processing\n",
            "Resampling: Cross-Validated (5 fold) \n",
            "Summary of sample sizes: 27, 26, 25, 27, 27 \n",
            "Resampling results:\n",
            "\n",
            "  RMSE      Rsquared   MAE     \n",
            "  2.498917  0.2398348  2.050217\n",
            "\n",
            "Tuning parameter 'intercept' was held constant at a value of TRUE\n",
            "Linear Regression \n",
            "\n",
            "33 samples\n",
            " 4 predictor\n",
            "\n",
            "No pre-processing\n",
            "Resampling: Cross-Validated (5 fold) \n",
            "Summary of sample sizes: 27, 27, 26, 26, 26 \n",
            "Resampling results:\n",
            "\n",
            "  RMSE      Rsquared   MAE      \n",
            "  1.227149  0.7497234  0.9937731\n",
            "\n",
            "Tuning parameter 'intercept' was held constant at a value of TRUE\n",
            "Linear Regression \n",
            "\n",
            "33 samples\n",
            " 2 predictor\n",
            "\n",
            "No pre-processing\n",
            "Resampling: Cross-Validated (5 fold) \n",
            "Summary of sample sizes: 26, 27, 27, 27, 25 \n",
            "Resampling results:\n",
            "\n",
            "  RMSE      Rsquared   MAE     \n",
            "  1.264546  0.6211734  1.126657\n",
            "\n",
            "Tuning parameter 'intercept' was held constant at a value of TRUE\n"
          ]
        }
      ],
      "source": [
        "### HIGH BP\n",
        "full_model <- train(pct_high_BP ~ ., data = na.omit(y_HBP_data),\n",
        "                    method = \"lm\", trControl = train_control)\n",
        "print(full_model)\n",
        "\n",
        "# lasso reg model from full model\n",
        "lasso_reg_model <- train(pct_high_BP ~ pct_high_chol + pct_obesity + pct_park_access + urban_rural_status, data = na.omit(y_HBP_data),\n",
        "                         method = \"lm\", trControl = train_control)\n",
        "print(lasso_reg_model)\n",
        "\n",
        "# basic reduced linear model w only Risk Factors (RF)\n",
        "red_reg_model_RF <- train(pct_high_BP ~ pct_high_chol + pct_current_smoker, data = na.omit(y_HBP_data),\n",
        "                         method = \"lm\", trControl = train_control)\n",
        "print(red_reg_model_RF)"
      ]
    },
    {
      "cell_type": "code",
      "source": [
        "# Lasso models for each category of each X separately\n",
        "lasso_risk_HBP <- train(pct_high_BP ~ pct_high_chol\t+ pct_diabetes + pct_obesity + pct_current_smoker, data = na.omit(y_HBP_data),\n",
        "                      method = \"lm\", trControl = train_control)\n",
        "print(lasso_risk_HBP)\n",
        "\n",
        "lasso_income_HBP <- train(pct_high_BP ~ pct_park_access + urban_rural_status, data = na.omit(y_HBP_data),\n",
        "                        method = \"lm\", trControl = train_control)\n",
        "print(lasso_income_HBP)\n",
        "\n",
        "lasso_health_HBP <- train(pct_high_BP ~ num_hospitals, data = na.omit(y_HBP_data),\n",
        "                         method = \"lm\", trControl = train_control)\n",
        "print(lasso_health_HBP)"
      ],
      "metadata": {
        "colab": {
          "base_uri": "https://localhost:8080/"
        },
        "id": "bjEQjSCaHpFo",
        "outputId": "745593e1-734a-470d-c2ae-fb0c84ea9626"
      },
      "execution_count": null,
      "outputs": [
        {
          "output_type": "stream",
          "name": "stdout",
          "text": [
            "Linear Regression \n",
            "\n",
            "33 samples\n",
            " 4 predictor\n",
            "\n",
            "No pre-processing\n",
            "Resampling: Cross-Validated (5 fold) \n",
            "Summary of sample sizes: 25, 27, 27, 27, 26 \n",
            "Resampling results:\n",
            "\n",
            "  RMSE      Rsquared   MAE     \n",
            "  1.263301  0.6126515  1.006567\n",
            "\n",
            "Tuning parameter 'intercept' was held constant at a value of TRUE\n",
            "Linear Regression \n",
            "\n",
            "33 samples\n",
            " 2 predictor\n",
            "\n",
            "No pre-processing\n",
            "Resampling: Cross-Validated (5 fold) \n",
            "Summary of sample sizes: 26, 27, 27, 26, 26 \n",
            "Resampling results:\n",
            "\n",
            "  RMSE      Rsquared   MAE   \n",
            "  1.332244  0.6168518  1.0533\n",
            "\n",
            "Tuning parameter 'intercept' was held constant at a value of TRUE\n",
            "Linear Regression \n",
            "\n",
            "33 samples\n",
            " 1 predictor\n",
            "\n",
            "No pre-processing\n",
            "Resampling: Cross-Validated (5 fold) \n",
            "Summary of sample sizes: 27, 25, 28, 27, 25 \n",
            "Resampling results:\n",
            "\n",
            "  RMSE      Rsquared   MAE     \n",
            "  1.959545  0.1836565  1.598891\n",
            "\n",
            "Tuning parameter 'intercept' was held constant at a value of TRUE\n"
          ]
        }
      ]
    },
    {
      "cell_type": "code",
      "source": [
        "# Lasso model w/ Social, Economic, Environmental Data & Health Data together\n",
        "lasso_income_health_HBP <- train(pct_high_BP ~ pct_park_access + urban_rural_status, data = na.omit(y_HBP_data),\n",
        "                                method = \"lm\", trControl = train_control)\n",
        "print(lasso_income_health_HBP)"
      ],
      "metadata": {
        "colab": {
          "base_uri": "https://localhost:8080/"
        },
        "id": "5L7RjD49HpFp",
        "outputId": "0fd91619-512b-454d-c0e0-c2369a9a58b8"
      },
      "execution_count": null,
      "outputs": [
        {
          "output_type": "stream",
          "name": "stdout",
          "text": [
            "Linear Regression \n",
            "\n",
            "33 samples\n",
            " 2 predictor\n",
            "\n",
            "No pre-processing\n",
            "Resampling: Cross-Validated (5 fold) \n",
            "Summary of sample sizes: 26, 26, 26, 28, 26 \n",
            "Resampling results:\n",
            "\n",
            "  RMSE     Rsquared   MAE     \n",
            "  1.32677  0.5801797  1.043633\n",
            "\n",
            "Tuning parameter 'intercept' was held constant at a value of TRUE\n"
          ]
        }
      ]
    },
    {
      "cell_type": "markdown",
      "source": [
        "### STROKE"
      ],
      "metadata": {
        "id": "oAUVTqI6HpFq"
      }
    },
    {
      "cell_type": "code",
      "execution_count": null,
      "metadata": {
        "colab": {
          "base_uri": "https://localhost:8080/"
        },
        "outputId": "72a8dc5f-4b3d-4e28-d3e3-c3ffc88676a6",
        "id": "NW0ukMexHpFq"
      },
      "outputs": [
        {
          "output_type": "stream",
          "name": "stdout",
          "text": [
            "Linear Regression \n",
            "\n",
            "33 samples\n",
            "18 predictors\n",
            "\n",
            "No pre-processing\n",
            "Resampling: Cross-Validated (5 fold) \n",
            "Summary of sample sizes: 26, 26, 26, 26, 28 \n",
            "Resampling results:\n",
            "\n",
            "  RMSE       Rsquared   MAE      \n",
            "  0.3910966  0.4213561  0.3240834\n",
            "\n",
            "Tuning parameter 'intercept' was held constant at a value of TRUE\n",
            "Linear Regression \n",
            "\n",
            "33 samples\n",
            " 6 predictor\n",
            "\n",
            "No pre-processing\n",
            "Resampling: Cross-Validated (5 fold) \n",
            "Summary of sample sizes: 27, 26, 27, 27, 25 \n",
            "Resampling results:\n",
            "\n",
            "  RMSE       Rsquared   MAE     \n",
            "  0.1660379  0.8065819  0.132671\n",
            "\n",
            "Tuning parameter 'intercept' was held constant at a value of TRUE\n",
            "Linear Regression \n",
            "\n",
            "33 samples\n",
            " 2 predictor\n",
            "\n",
            "No pre-processing\n",
            "Resampling: Cross-Validated (5 fold) \n",
            "Summary of sample sizes: 25, 26, 27, 27, 27 \n",
            "Resampling results:\n",
            "\n",
            "  RMSE       Rsquared   MAE     \n",
            "  0.1553051  0.8201128  0.131781\n",
            "\n",
            "Tuning parameter 'intercept' was held constant at a value of TRUE\n"
          ]
        }
      ],
      "source": [
        "### STROKE\n",
        "full_model <- train(pct_stroke ~ ., data = na.omit(y_stroke_data),\n",
        "                    method = \"lm\", trControl = train_control)\n",
        "print(full_model)\n",
        "\n",
        "# lasso reg model from full model\n",
        "lasso_reg_model <- train(pct_stroke ~ pct_high_chol + pct_obesity + gini\n",
        "                         + pct_park_access + urban_rural_status + pop_per_primary_dr,\n",
        "                         data = na.omit(y_stroke_data),\n",
        "                         method = \"lm\", trControl = train_control)\n",
        "print(lasso_reg_model)\n",
        "\n",
        "# basic reduced linear model w only Risk Factors (RF)\n",
        "red_reg_model_RF <- train(pct_stroke ~ pct_high_chol + pct_current_smoker, data = na.omit(y_stroke_data),\n",
        "                         method = \"lm\", trControl = train_control)\n",
        "print(red_reg_model_RF)"
      ]
    },
    {
      "cell_type": "code",
      "source": [
        "# Lasso models for each category of each X separately\n",
        "lasso_risk_stroke <- train(pct_stroke ~ pct_high_chol\t+ pct_diabetes + pct_obesity + pct_phys_inactivity + pct_current_smoker,\n",
        "                        data = na.omit(y_stroke_data), method = \"lm\", trControl = train_control)\n",
        "print(lasso_risk_stroke)\n",
        "\n",
        "lasso_income_stroke <- train(pct_stroke ~ income + gini + pct_poverty + pct_unemployment + air_quality + pct_park_access + urban_rural_status,\n",
        "                      data = na.omit(y_stroke_data), method = \"lm\", trControl = train_control)\n",
        "print(lasso_income_stroke)\n",
        "\n",
        "lasso_health_stroke <- train(pct_stroke ~ pop_per_primary_dr + pop_per_cvd_dr,\n",
        "                    data = na.omit(y_stroke_data), method = \"lm\", trControl = train_control)\n",
        "print(lasso_health_stroke)"
      ],
      "metadata": {
        "colab": {
          "base_uri": "https://localhost:8080/"
        },
        "id": "ONPwCr9cHpFr",
        "outputId": "706f88df-2002-489c-aa8a-349b76c4f63c"
      },
      "execution_count": null,
      "outputs": [
        {
          "output_type": "stream",
          "name": "stdout",
          "text": [
            "Linear Regression \n",
            "\n",
            "33 samples\n",
            " 5 predictor\n",
            "\n",
            "No pre-processing\n",
            "Resampling: Cross-Validated (5 fold) \n",
            "Summary of sample sizes: 26, 27, 27, 26, 26 \n",
            "Resampling results:\n",
            "\n",
            "  RMSE       Rsquared   MAE      \n",
            "  0.1482795  0.8308827  0.1260686\n",
            "\n",
            "Tuning parameter 'intercept' was held constant at a value of TRUE\n",
            "Linear Regression \n",
            "\n",
            "33 samples\n",
            " 7 predictor\n",
            "\n",
            "No pre-processing\n",
            "Resampling: Cross-Validated (5 fold) \n",
            "Summary of sample sizes: 26, 26, 27, 26, 27 \n",
            "Resampling results:\n",
            "\n",
            "  RMSE       Rsquared   MAE      \n",
            "  0.1911619  0.6688977  0.1283005\n",
            "\n",
            "Tuning parameter 'intercept' was held constant at a value of TRUE\n",
            "Linear Regression \n",
            "\n",
            "33 samples\n",
            " 2 predictor\n",
            "\n",
            "No pre-processing\n",
            "Resampling: Cross-Validated (5 fold) \n",
            "Summary of sample sizes: 26, 27, 26, 28, 25 \n",
            "Resampling results:\n",
            "\n",
            "  RMSE       Rsquared   MAE      \n",
            "  0.2348276  0.5826298  0.1949582\n",
            "\n",
            "Tuning parameter 'intercept' was held constant at a value of TRUE\n"
          ]
        }
      ]
    },
    {
      "cell_type": "code",
      "source": [
        "# Lasso model w/ Social, Economic, Environmental Data & Health Data together\n",
        "lasso_income_health_stroke <- train(pct_stroke ~ income + gini + pct_park_access + urban_rural_status + num_hospitals + pop_per_primary_dr,\n",
        "                                  data = na.omit(y_stroke_data), method = \"lm\", trControl = train_control)\n",
        "print(lasso_income_health_stroke)"
      ],
      "metadata": {
        "colab": {
          "base_uri": "https://localhost:8080/"
        },
        "id": "TLftEt4_HpFr",
        "outputId": "0dd23363-8192-4e02-af22-07ff9780c284"
      },
      "execution_count": null,
      "outputs": [
        {
          "output_type": "stream",
          "name": "stdout",
          "text": [
            "Linear Regression \n",
            "\n",
            "33 samples\n",
            " 6 predictor\n",
            "\n",
            "No pre-processing\n",
            "Resampling: Cross-Validated (5 fold) \n",
            "Summary of sample sizes: 28, 26, 25, 26, 27 \n",
            "Resampling results:\n",
            "\n",
            "  RMSE       Rsquared   MAE      \n",
            "  0.1911736  0.7770545  0.1450819\n",
            "\n",
            "Tuning parameter 'intercept' was held constant at a value of TRUE\n"
          ]
        }
      ]
    },
    {
      "cell_type": "markdown",
      "source": [
        "# Assumptions of Linear Regression"
      ],
      "metadata": {
        "id": "v_hlYUjWQAHr"
      }
    },
    {
      "cell_type": "code",
      "source": [
        "### CHD\n",
        "red_risk_model <- lm(pct_CHD ~ pct_high_chol + pct_diabetes + pct_current_smoker,\n",
        "                   data = main_health_data)"
      ],
      "metadata": {
        "id": "wPFFnYEGRCHM"
      },
      "execution_count": null,
      "outputs": []
    },
    {
      "cell_type": "code",
      "source": [
        "qqnorm(red_risk_model$residuals)\n",
        "qqline(red_risk_model$residuals)"
      ],
      "metadata": {
        "colab": {
          "base_uri": "https://localhost:8080/",
          "height": 437
        },
        "id": "5XsGx_nhQCXq",
        "outputId": "d8c79461-81c2-42dc-81bb-a708d8dae4d6"
      },
      "execution_count": null,
      "outputs": [
        {
          "output_type": "display_data",
          "data": {
            "text/plain": [
              "Plot with title “Normal Q-Q Plot”"
            ],
            "image/png": "[encoded data removed]"
          },
          "metadata": {
            "image/png": {
              "width": 420,
              "height": 420
            }
          }
        }
      ]
    },
    {
      "cell_type": "code",
      "source": [
        "plot(red_risk_model$fitted.values, red_risk_model$residuals, main = \"Group Means vs Errors\",\n",
        "    xlab = \"Group Means\", ylab = \"Errors\")\n",
        "abline(h = 0, col = \"blue\")"
      ],
      "metadata": {
        "colab": {
          "base_uri": "https://localhost:8080/",
          "height": 437
        },
        "id": "S8FNAriTR5WD",
        "outputId": "ca163b17-8f37-4abc-9c83-8adec2f8962c"
      },
      "execution_count": null,
      "outputs": [
        {
          "output_type": "display_data",
          "data": {
            "text/plain": [
              "Plot with title “Group Means vs Errors”"
            ],
            "image/png": "[encoded data removed]"
          },
          "metadata": {
            "image/png": {
              "width": 420,
              "height": 420
            }
          }
        }
      ]
    },
    {
      "cell_type": "code",
      "source": [
        "### HIGH BP\n",
        "red_risk_model <- lm(pct_high_BP ~ pct_high_chol + pct_current_smoker,\n",
        "                   data = main_health_data)"
      ],
      "metadata": {
        "id": "ZGqPyqraRE4T"
      },
      "execution_count": null,
      "outputs": []
    },
    {
      "cell_type": "code",
      "source": [
        "qqnorm(red_risk_model$residuals)\n",
        "qqline(red_risk_model$residuals)"
      ],
      "metadata": {
        "colab": {
          "base_uri": "https://localhost:8080/",
          "height": 437
        },
        "id": "WDjATnZkTf71",
        "outputId": "d0c2e64f-ee72-46ca-f0c8-6ad60bb06a08"
      },
      "execution_count": null,
      "outputs": [
        {
          "output_type": "display_data",
          "data": {
            "text/plain": [
              "Plot with title “Normal Q-Q Plot”"
            ],
            "image/png": "[encoded data removed]"
          },
          "metadata": {
            "image/png": {
              "width": 420,
              "height": 420
            }
          }
        }
      ]
    },
    {
      "cell_type": "code",
      "source": [
        "plot(red_risk_model$fitted.values, red_risk_model$residuals, main = \"Group Means vs Errors\",\n",
        "    xlab = \"Group Means\", ylab = \"Errors\")\n",
        "abline(h = 0, col = \"blue\")"
      ],
      "metadata": {
        "colab": {
          "base_uri": "https://localhost:8080/",
          "height": 437
        },
        "id": "MiECI5v0Tk_m",
        "outputId": "8fb521f1-67f0-43c4-d8b9-258d8e763e34"
      },
      "execution_count": null,
      "outputs": [
        {
          "output_type": "display_data",
          "data": {
            "text/plain": [
              "Plot with title “Group Means vs Errors”"
            ],
            "image/png": "[encoded data removed]"
          },
          "metadata": {
            "image/png": {
              "width": 420,
              "height": 420
            }
          }
        }
      ]
    },
    {
      "cell_type": "code",
      "source": [
        "### STROKE\n",
        "red_risk_model <- lm(pct_stroke ~ pct_high_chol + pct_current_smoker,\n",
        "                   data = main_health_data)"
      ],
      "metadata": {
        "id": "k6vvwO0MRE7U"
      },
      "execution_count": null,
      "outputs": []
    },
    {
      "cell_type": "code",
      "source": [
        "qqnorm(red_risk_model$residuals)\n",
        "qqline(red_risk_model$residuals)"
      ],
      "metadata": {
        "colab": {
          "base_uri": "https://localhost:8080/",
          "height": 437
        },
        "id": "qBXJswaoThHd",
        "outputId": "8d930be5-2066-434b-ef99-5e05372a343c"
      },
      "execution_count": null,
      "outputs": [
        {
          "output_type": "display_data",
          "data": {
            "text/plain": [
              "Plot with title “Normal Q-Q Plot”"
            ],
            "image/png": "[encoded data removed]"
          },
          "metadata": {
            "image/png": {
              "width": 420,
              "height": 420
            }
          }
        }
      ]
    },
    {
      "cell_type": "code",
      "source": [
        "plot(red_risk_model$fitted.values, red_risk_model$residuals, main = \"Group Means vs Errors\",\n",
        "    xlab = \"Group Means\", ylab = \"Errors\")\n",
        "abline(h = 0, col = \"blue\")"
      ],
      "metadata": {
        "colab": {
          "base_uri": "https://localhost:8080/",
          "height": 437
        },
        "id": "vzkAHpy1TkdV",
        "outputId": "507d3bd6-5aad-4669-c539-c7f4a7c00246"
      },
      "execution_count": null,
      "outputs": [
        {
          "output_type": "display_data",
          "data": {
            "text/plain": [
              "Plot with title “Group Means vs Errors”"
            ],
            "image/png": "[encoded data removed]"
          },
          "metadata": {
            "image/png": {
              "width": 420,
              "height": 420
            }
          }
        }
      ]
    },
    {
      "cell_type": "code",
      "source": [
        "# High BP\n",
        "lasso_HBP <- lm(pct_high_BP ~ pct_high_chol + pct_obesity + pct_park_access + urban_rural_status, data = main_health_data)"
      ],
      "metadata": {
        "id": "Cfb9u1oORE-U"
      },
      "execution_count": null,
      "outputs": []
    },
    {
      "cell_type": "code",
      "source": [
        "qqnorm(lasso_HBP$residuals)\n",
        "qqline(lasso_HBP$residuals)"
      ],
      "metadata": {
        "colab": {
          "base_uri": "https://localhost:8080/",
          "height": 437
        },
        "id": "uKCUAkjZThtV",
        "outputId": "614be590-8614-4490-e081-6042c01a2acb"
      },
      "execution_count": null,
      "outputs": [
        {
          "output_type": "display_data",
          "data": {
            "text/plain": [
              "Plot with title “Normal Q-Q Plot”"
            ],
            "image/png": "[encoded data removed]"
          },
          "metadata": {
            "image/png": {
              "width": 420,
              "height": 420
            }
          }
        }
      ]
    },
    {
      "cell_type": "code",
      "source": [
        "plot(lasso_HBP$fitted.values, lasso_HBP$residuals, main = \"Group Means vs Errors\",\n",
        "    xlab = \"Group Means\", ylab = \"Errors\")\n",
        "abline(h = 0, col = \"blue\")"
      ],
      "metadata": {
        "colab": {
          "base_uri": "https://localhost:8080/",
          "height": 437
        },
        "id": "vzdLhiu8TjLd",
        "outputId": "0ea52539-e91f-4199-e3fd-a7738b794dfc"
      },
      "execution_count": null,
      "outputs": [
        {
          "output_type": "display_data",
          "data": {
            "text/plain": [
              "Plot with title “Group Means vs Errors”"
            ],
            "image/png": "[encoded data removed]"
          },
          "metadata": {
            "image/png": {
              "width": 420,
              "height": 420
            }
          }
        }
      ]
    },
    {
      "cell_type": "code",
      "source": [
        "# Stroke\n",
        "lasso_stroke <- lm(pct_stroke ~ pct_high_chol + pct_obesity + gini\n",
        "                         + pct_park_access + urban_rural_status + pop_per_primary_dr,\n",
        "                         data = main_health_data)"
      ],
      "metadata": {
        "id": "Z6_O3EjFRFBL"
      },
      "execution_count": null,
      "outputs": []
    },
    {
      "cell_type": "code",
      "source": [
        "qqnorm(lasso_stroke$residuals)\n",
        "qqline(lasso_stroke$residuals)"
      ],
      "metadata": {
        "colab": {
          "base_uri": "https://localhost:8080/",
          "height": 437
        },
        "id": "AOw-G5cpRFET",
        "outputId": "00bfc173-f976-4f22-d60b-bf88aafba7ab"
      },
      "execution_count": null,
      "outputs": [
        {
          "output_type": "display_data",
          "data": {
            "text/plain": [
              "Plot with title “Normal Q-Q Plot”"
            ],
            "image/png": "[encoded data removed]"
          },
          "metadata": {
            "image/png": {
              "width": 420,
              "height": 420
            }
          }
        }
      ]
    },
    {
      "cell_type": "code",
      "source": [
        "plot(lasso_stroke$fitted.values, lasso_stroke$residuals, main = \"Group Means vs Errors\",\n",
        "    xlab = \"Group Means\", ylab = \"Errors\")\n",
        "abline(h = 0, col = \"blue\")"
      ],
      "metadata": {
        "colab": {
          "base_uri": "https://localhost:8080/",
          "height": 437
        },
        "id": "nnCViXCRTicw",
        "outputId": "a08f9359-ed21-4b37-ba1c-b2c3ccb77291"
      },
      "execution_count": null,
      "outputs": [
        {
          "output_type": "display_data",
          "data": {
            "text/plain": [
              "Plot with title “Group Means vs Errors”"
            ],
            "image/png": "[encoded data removed]"
          },
          "metadata": {
            "image/png": {
              "width": 420,
              "height": 420
            }
          }
        }
      ]
    }
  ],
  "metadata": {
    "colab": {
      "provenance": []
    },
    "kernelspec": {
      "display_name": "R",
      "name": "ir"
    },
    "language_info": {
      "name": "R"
    }
  },
  "nbformat": 4,
  "nbformat_minor": 0
}